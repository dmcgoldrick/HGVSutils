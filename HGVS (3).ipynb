{
 "cells": [
  {
   "cell_type": "code",
   "execution_count": null,
   "metadata": {},
   "outputs": [],
   "source": [
    "import datetime\n",
    "import numpy as np\n",
    "#import scipy as sp\n",
    "#import uuid\n",
    "import hashlib\n",
    "import matplotlib.pyplot as plt\n",
    "#from mpl_toolkits.mplot3d import Axes3D\n",
    "import pandas as pd\n",
    "import os\n",
    "import re\n",
    "import math\n",
    "from datetime import date\n",
    "import ftplib\n",
    "from ftplib import FTP\n",
    "import gzip as gz\n",
    "import collections\n",
    "from collections import deque,OrderedDict,namedtuple\n",
    "import sys\n",
    "import cProfile\n",
    "import multiprocessing\n",
    "import inspect\n",
    "#https://github.com/chaithemleib/intervaltree - don't use one that cannot support objects attached to intervals\n",
    "import yaml\n",
    "import datetime\n",
    "import time\n",
    "import ast\n",
    "import codecs\n",
    "import uuid\n",
    "import json\n",
    "# add liftover\n",
    "from pyliftover import LiftOver\n",
    "import hgvs.parser\n",
    "import hgvs.dataproviders.uta\n",
    "import hgvs.assemblymapper\n",
    "import hgvs.projector\n",
    "# internet\n",
    "import urllib3\n",
    "import certifi\n",
    "import xmlrpc.client"
   ]
  },
  {
   "cell_type": "code",
   "execution_count": null,
   "metadata": {},
   "outputs": [],
   "source": [
    "# Notebook display options\n",
    "#pd.set_option('display.height', 1000)\n",
    "pd.set_option('display.max_rows', 10000)\n",
    "pd.set_option('display.max_columns', 1000)\n",
    "pd.set_option('max_colwidth',1000)\n",
    "%matplotlib inline\n",
    "%autosave 0"
   ]
  },
  {
   "cell_type": "code",
   "execution_count": null,
   "metadata": {},
   "outputs": [],
   "source": [
    "hdp = hgvs.dataproviders.uta.connect()\n",
    "variantmapper = hgvs.variantmapper.VariantMapper(hdp)\n",
    "am = hgvs.assemblymapper.AssemblyMapper(hdp,assembly_name='GRCh37', alt_aln_method='splign',replace_reference=True)\n",
    "hp = hgvs.parser.Parser()\n",
    "hn = hgvs.normalizer.Normalizer(hdp)\n",
    "vr = hgvs.validator.Validator(hdp=hdp)"
   ]
  },
  {
   "cell_type": "markdown",
   "metadata": {},
   "source": [
    "# genomic coords tester"
   ]
  },
  {
   "cell_type": "code",
   "execution_count": null,
   "metadata": {},
   "outputs": [],
   "source": [
    "hgvs_g = 'NC_000007.13:g.36561662C>T'"
   ]
  },
  {
   "cell_type": "markdown",
   "metadata": {},
   "source": [
    "# cDNA coord tester"
   ]
  },
  {
   "cell_type": "code",
   "execution_count": null,
   "metadata": {},
   "outputs": [],
   "source": [
    "hgvs_c = 'NM_001637.3:c.1582G>A'"
   ]
  },
  {
   "cell_type": "markdown",
   "metadata": {},
   "source": [
    "# parse genomic"
   ]
  },
  {
   "cell_type": "code",
   "execution_count": null,
   "metadata": {},
   "outputs": [],
   "source": [
    "var_g = hp.parse_hgvs_variant(hgvs_g)"
   ]
  },
  {
   "cell_type": "code",
   "execution_count": null,
   "metadata": {},
   "outputs": [],
   "source": [
    "var_g"
   ]
  },
  {
   "cell_type": "code",
   "execution_count": null,
   "metadata": {},
   "outputs": [],
   "source": [
    "var_g.posedit.pos.start"
   ]
  },
  {
   "cell_type": "code",
   "execution_count": null,
   "metadata": {},
   "outputs": [],
   "source": [
    "str(var_g)"
   ]
  },
  {
   "cell_type": "markdown",
   "metadata": {},
   "source": [
    "# get transcripts of a gene"
   ]
  },
  {
   "cell_type": "code",
   "execution_count": null,
   "metadata": {},
   "outputs": [],
   "source": [
    "transcripts = am.relevant_transcripts(var_g)"
   ]
  },
  {
   "cell_type": "code",
   "execution_count": null,
   "metadata": {},
   "outputs": [],
   "source": [
    "sorted(transcripts)"
   ]
  },
  {
   "cell_type": "markdown",
   "metadata": {},
   "source": [
    "# project a genomic variant onto a cDNA variant"
   ]
  },
  {
   "cell_type": "code",
   "execution_count": null,
   "metadata": {},
   "outputs": [],
   "source": [
    "var_c = am.g_to_c(var_g, 'NM_001637.3')"
   ]
  },
  {
   "cell_type": "code",
   "execution_count": null,
   "metadata": {},
   "outputs": [],
   "source": [
    "var_c"
   ]
  },
  {
   "cell_type": "code",
   "execution_count": null,
   "metadata": {},
   "outputs": [],
   "source": [
    "var_c2 = am.g_to_c(var_g, 'NM_001177507.1')\n",
    "var_c2"
   ]
  },
  {
   "cell_type": "code",
   "execution_count": null,
   "metadata": {},
   "outputs": [],
   "source": [
    "var_c3 = am.g_to_c(var_g,'NM_001177506.1')\n",
    "var_c3"
   ]
  },
  {
   "cell_type": "code",
   "execution_count": null,
   "metadata": {},
   "outputs": [],
   "source": [
    "str(var_c)"
   ]
  },
  {
   "cell_type": "code",
   "execution_count": null,
   "metadata": {},
   "outputs": [],
   "source": [
    "str(var_c2)"
   ]
  },
  {
   "cell_type": "code",
   "execution_count": null,
   "metadata": {},
   "outputs": [],
   "source": [
    "str(var_c3)"
   ]
  },
  {
   "cell_type": "code",
   "execution_count": null,
   "metadata": {},
   "outputs": [],
   "source": [
    "#dir(var_c3)"
   ]
  },
  {
   "cell_type": "markdown",
   "metadata": {},
   "source": [
    "# validate a variant"
   ]
  },
  {
   "cell_type": "code",
   "execution_count": null,
   "metadata": {},
   "outputs": [],
   "source": [
    "var_c3.validate"
   ]
  },
  {
   "cell_type": "code",
   "execution_count": null,
   "metadata": {},
   "outputs": [],
   "source": [
    "try:\n",
    "    # shift the NM_001177506.1 position +2 1582 to 1584 and see if this validates\n",
    "    vr.validate( hp.parse_hgvs_variant('NM_001177506.1:c.1584G>A') )\n",
    "    vr.validate( hp.parse_hgvs_variant('NM_001637.3:c.1582G>A') )\n",
    "except hgvs.exceptions.HGVSError as e:\n",
    "    print(e)"
   ]
  },
  {
   "cell_type": "code",
   "execution_count": null,
   "metadata": {},
   "outputs": [],
   "source": [
    "var_p = am.c_to_p(var_c)"
   ]
  },
  {
   "cell_type": "code",
   "execution_count": null,
   "metadata": {},
   "outputs": [],
   "source": [
    "var_p"
   ]
  },
  {
   "cell_type": "code",
   "execution_count": null,
   "metadata": {},
   "outputs": [],
   "source": [
    " str(var_p)"
   ]
  },
  {
   "cell_type": "code",
   "execution_count": null,
   "metadata": {},
   "outputs": [],
   "source": [
    "var_p.posedit.uncertain = False"
   ]
  },
  {
   "cell_type": "code",
   "execution_count": null,
   "metadata": {},
   "outputs": [],
   "source": [
    "str(var_p)"
   ]
  },
  {
   "cell_type": "code",
   "execution_count": null,
   "metadata": {},
   "outputs": [],
   "source": [
    " var_p.format(conf={\"p_3_letter\": False})"
   ]
  },
  {
   "cell_type": "markdown",
   "metadata": {},
   "source": [
    "# Normalize a variant "
   ]
  },
  {
   "cell_type": "code",
   "execution_count": null,
   "metadata": {},
   "outputs": [],
   "source": [
    "hn.normalize(hp.parse_hgvs_variant('NM_001166478.1:c.35_36insT'))"
   ]
  },
  {
   "cell_type": "code",
   "execution_count": null,
   "metadata": {},
   "outputs": [],
   "source": [
    "c1 = hp.parse_hgvs_variant('NM_001166478.1:c.31del')"
   ]
  },
  {
   "cell_type": "code",
   "execution_count": null,
   "metadata": {},
   "outputs": [],
   "source": [
    "c1"
   ]
  },
  {
   "cell_type": "code",
   "execution_count": null,
   "metadata": {},
   "outputs": [],
   "source": [
    "c1n = hn.normalize(c1)"
   ]
  },
  {
   "cell_type": "code",
   "execution_count": null,
   "metadata": {},
   "outputs": [],
   "source": [
    "c1n"
   ]
  },
  {
   "cell_type": "code",
   "execution_count": null,
   "metadata": {},
   "outputs": [],
   "source": [
    "g = am.c_to_g(c1)"
   ]
  },
  {
   "cell_type": "code",
   "execution_count": null,
   "metadata": {},
   "outputs": [],
   "source": [
    "g"
   ]
  },
  {
   "cell_type": "code",
   "execution_count": null,
   "metadata": {},
   "outputs": [],
   "source": [
    "gn=am.c_to_g(c1n)"
   ]
  },
  {
   "cell_type": "code",
   "execution_count": null,
   "metadata": {},
   "outputs": [],
   "source": [
    "gn"
   ]
  },
  {
   "cell_type": "code",
   "execution_count": null,
   "metadata": {},
   "outputs": [],
   "source": [
    "c2 = am.g_to_c(g, c1.ac)"
   ]
  },
  {
   "cell_type": "code",
   "execution_count": null,
   "metadata": {},
   "outputs": [],
   "source": [
    "c2"
   ]
  },
  {
   "cell_type": "code",
   "execution_count": null,
   "metadata": {},
   "outputs": [],
   "source": [
    "var_c1 = hgvsparser.parse_hgvs_variant('NM_001261456.1:c.1762A>G')"
   ]
  },
  {
   "cell_type": "code",
   "execution_count": null,
   "metadata": {},
   "outputs": [],
   "source": [
    "pj = hgvs.projector.Projector(hdp=hdp,\n",
    "                              alt_ac='NC_000001.10',\n",
    "                              src_ac=var_c1.ac,\n",
    "                              dst_ac='NM_001261457.1')"
   ]
  },
  {
   "cell_type": "code",
   "execution_count": null,
   "metadata": {},
   "outputs": [],
   "source": [
    "pj.project_variant_forward(var_c1)"
   ]
  },
  {
   "cell_type": "code",
   "execution_count": null,
   "metadata": {},
   "outputs": [],
   "source": [
    "hdp = hgvs.dataproviders.uta.connect()\n",
    "variantmapper = hgvs.variantmapper.VariantMapper(hdp)\n",
    "hgvsparser = hgvs.parser.Parser()"
   ]
  },
  {
   "cell_type": "markdown",
   "metadata": {},
   "source": [
    "# project cDNA onto protein"
   ]
  },
  {
   "cell_type": "code",
   "execution_count": null,
   "metadata": {},
   "outputs": [],
   "source": [
    "var_c1 = hgvsparser.parse_hgvs_variant('NM_001261456.1:c.1762A>G')\n",
    "var_p1 = variantmapper.c_to_p(var_c1, None)\n",
    "var_c1, var_p1"
   ]
  },
  {
   "cell_type": "code",
   "execution_count": null,
   "metadata": {},
   "outputs": [],
   "source": [
    "var_g = variantmapper.c_to_g(var_c1,'NC_000001.10')\n",
    "var_g"
   ]
  },
  {
   "cell_type": "markdown",
   "metadata": {},
   "source": [
    "# get info manually on a variants within genes"
   ]
  },
  {
   "cell_type": "code",
   "execution_count": null,
   "metadata": {},
   "outputs": [],
   "source": [
    "txs = hdp.get_tx_for_gene('LY9')\n",
    "txs"
   ]
  },
  {
   "cell_type": "code",
   "execution_count": null,
   "metadata": {},
   "outputs": [],
   "source": [
    "txs = hdp.get_tx_for_gene('ABCA4')\n",
    "txs"
   ]
  },
  {
   "cell_type": "code",
   "execution_count": null,
   "metadata": {},
   "outputs": [],
   "source": [
    "var_c2 = variantmapper.g_to_c(var_g,'NM_001261457.1',alt_aln_method='splign')\n",
    "var_p2 = variantmapper.c_to_p(var_c2, None)\n",
    "var_c2, var_p2"
   ]
  },
  {
   "cell_type": "markdown",
   "metadata": {},
   "source": [
    "# Normalize a structural variant"
   ]
  },
  {
   "cell_type": "code",
   "execution_count": null,
   "metadata": {},
   "outputs": [],
   "source": [
    "v = hp.parse_hgvs_variant(\"NM_001166478.1:c.30_31insT\")\n",
    "str(hn.normalize(v))"
   ]
  },
  {
   "cell_type": "markdown",
   "metadata": {},
   "source": [
    "# DATA! : test this on a real data-set"
   ]
  },
  {
   "cell_type": "code",
   "execution_count": null,
   "metadata": {},
   "outputs": [],
   "source": [
    "dt={'ALLELEID': int,'VariationID': int, 'SCV': str, 'Submitter': str, 'chrom': str, 'pos': int, 'ref': str, 'alt': str, 'CLNHGVS': object}\n",
    "hgvs_df=pd.read_csv('/mnt/c/Users/mcgold/DATA/HGVStestFile.tsv',dtype=dt,sep=\"\\t\",header=0)"
   ]
  },
  {
   "cell_type": "markdown",
   "metadata": {},
   "source": [
    "# put this together and check a file"
   ]
  },
  {
   "cell_type": "code",
   "execution_count": null,
   "metadata": {},
   "outputs": [],
   "source": [
    "# make a structure to hold a validation round \n",
    "# validate the genomic, cDNA/s and protein/s\n",
    "# validate the normalizations of genomic, cDNA and protein\n",
    "attr=['ID','assembly','var_g','var_c','var_p','isNormalized_g','isNormalized_c',\n",
    "      'isNormalized_p','isValid_g','isValid_c','isValid_p','transcripts','xrefs','timestamp']\n",
    "Validation = namedtuple('variant',attr) \n",
    "n_attr=len(attr)\n",
    "priorID=0\n",
    "tests_dict={}\n",
    "d=datetime.datetime.today().strftime('%Y-%m-%d')\n",
    "date=str(d)\n",
    "assembly='GRCh37'\n",
    "for nth,i in enumerate(hgvs_df.index):\n",
    "    ID=hgvs_df.loc[i,'ALLELEID']\n",
    "    if ID != priorID:\n",
    "        CLNHGVS_list=ast.literal_eval(hgvs_df.loc[i,'CLNHGVS'])\n",
    "        record=Validation._make(['.']*n_attr)\n",
    "        record._replace(ID=ID,timestamp=date)\n",
    "        tests_dict[ID]=record\n",
    "        tests_dict[ID]=tests_dict[ID]._replace(ID=ID)\n",
    "        tests_dict[ID]=tests_dict[ID]._replace(assembly='GRCh37')\n",
    "        tests_dict[ID]=tests_dict[ID]._replace(timestamp=date)\n",
    "#    sys.stdout.write(str(ID) + \"\\t\" + str(CLNHGVS_list) + \"\\n\")\n",
    "# genomic data\n",
    "        for g in CLNHGVS_list:\n",
    "#            print(nth,g)\n",
    "            var_g='.'\n",
    "            transcripts='.'\n",
    "            varPlst=[]\n",
    "            tests_dict[ID]=tests_dict[ID]._replace(var_g=g)\n",
    "# validate the genomic variant \n",
    "            try:\n",
    "                var_g=hp.parse_hgvs_variant(str(g))\n",
    "                x=vr.validate( hp.parse_hgvs_variant(str(var_g)))\n",
    "                tests_dict[ID]=tests_dict[ID]._replace(isValid_g=x)\n",
    "            except:\n",
    "                tests_dict[ID]=tests_dict[ID]._replace(isValid_g=None)\n",
    "# check normalization\n",
    "            try:\n",
    "                x=hn.normalize(hp.parse_hgvs_variant(str(var_g)))\n",
    "            except:\n",
    "                x=None\n",
    "            if str(x)==str(var_g):\n",
    "                tests_dict[ID]=tests_dict[ID]._replace(isNormalized_g=True)\n",
    "            elif (x is not None) and (str(x)!=str(var_g)):\n",
    "                tests_dict[ID]=tests_dict[ID]._replace(isNormalized_g=False)\n",
    "            else:\n",
    "                tests_dict[ID]=tests_dict[ID]._replace(isNormalized_g=None)\n",
    "# check valid\n",
    "            try:\n",
    "                x=vr.validate(hp.parse_hgvs_variant(str(var_c)))\n",
    "                tests_dict[ID]=tests_dict[ID]._replace(isValid_c=x)\n",
    "            except:\n",
    "                tests_dict[ID]=tests_dict[ID]._replace(isValid_c=None)\n",
    "            try:\n",
    "                var_p=variantmapper.c_to_p(var_c, None)\n",
    "                x=vr.validate( hp.parse_hgvs_variant(str(var_p)))\n",
    "                tests_dict[ID]=tests_dict[ID]._replace(isValid_p=x)\n",
    "            except:\n",
    "                tests_dict[ID]=tests_dict[ID]._replace(isValid_p=None)\n",
    "# get the transcripts and check valid and normalized\n",
    "            try:\n",
    "                transcripts = sorted(am.relevant_transcripts(var_g))\n",
    "                transcriptStr=\";\".join(transcripts)\n",
    "                tests_dict[ID]=tests_dict[ID]._replace(transcripts=transcriptStr)\n",
    "                sys.stdout.write(str(ID) + \"\\t\" + str(CLNHGVS_list) + \"\\t\" + str(transcripts) + \"\\n\")\n",
    "            except:\n",
    "                tests_dict[ID]=tests_dict[ID]._replace(transcripts=None)\n",
    "            try:\n",
    "                tests_dict[ID]=tests_dict[ID]._replace(var_p=varPstr)\n",
    "                xrefStr=transcriptStr + ';' + varPstr\n",
    "                tests_dict[ID]=tests_dict[ID]._replace(xrefs=xrefStr)\n",
    "            except:\n",
    "                pass            \n",
    "            for t in transcripts:\n",
    "                if t!='.':\n",
    "                    var_c=am.g_to_c(var_g, str(t))\n",
    "                    var_p=variantmapper.c_to_p(var_c, None)\n",
    "                    varPlst.append(str(var_p))\n",
    "                    try:\n",
    "                        x=hn.normalize(hp.parse_hgvs_variant(str(var_c)))\n",
    "                    except:\n",
    "                        x=None\n",
    "                    if str(x)==str(var_c):\n",
    "                         sys.stdout.write(\"\\tNORMALIZATION PASS: \" +  str(x) +\"=\" + str(var_c) + \"\\n\")\n",
    "                    elif (x is not None) and (str(x)!=str(var_c)):\n",
    "                        sys.stderr.write(\"\\tNORMALIZATION FAIL: \" +  str(x) +\"=\" + str(var_c) + \"\\n\")\n",
    "                    else:\n",
    "                        sys.stdout.write(\"\\tNORMALIZATION NULL: \" +  str(x) +\"=\" + str(var_c) + \"\\n\")\n",
    "        priorID=ID"
   ]
  },
  {
   "cell_type": "code",
   "execution_count": null,
   "metadata": {},
   "outputs": [],
   "source": [
    "tests_dict"
   ]
  },
  {
   "cell_type": "code",
   "execution_count": null,
   "metadata": {},
   "outputs": [],
   "source": [
    "pd.DataFrame.from_dict(tests_dict,orient='index').to_csv('/mnt/c/Users/mcgold/DATA/HGVSValidationResult.tsv',sep=\"\\t\",header=True,index=False)"
   ]
  },
  {
   "cell_type": "code",
   "execution_count": null,
   "metadata": {},
   "outputs": [],
   "source": [
    "df=pd.DataFrame.from_dict(tests_dict,orient='index')"
   ]
  },
  {
   "cell_type": "code",
   "execution_count": null,
   "metadata": {},
   "outputs": [],
   "source": [
    "df"
   ]
  },
  {
   "cell_type": "code",
   "execution_count": null,
   "metadata": {},
   "outputs": [],
   "source": []
  }
 ],
 "metadata": {
  "kernelspec": {
   "display_name": "Python 3",
   "language": "python",
   "name": "python3"
  },
  "language_info": {
   "codemirror_mode": {
    "name": "ipython",
    "version": 3
   },
   "file_extension": ".py",
   "mimetype": "text/x-python",
   "name": "python",
   "nbconvert_exporter": "python",
   "pygments_lexer": "ipython3",
   "version": "3.8.2"
  }
 },
 "nbformat": 4,
 "nbformat_minor": 4
}
