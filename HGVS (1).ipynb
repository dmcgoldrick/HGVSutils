{
 "cells": [
  {
   "cell_type": "code",
   "execution_count": 76,
   "metadata": {},
   "outputs": [],
   "source": [
    "import datetime\n",
    "import numpy as np\n",
    "#import scipy as sp\n",
    "#import uuid\n",
    "import hashlib\n",
    "import matplotlib.pyplot as plt\n",
    "#from mpl_toolkits.mplot3d import Axes3D\n",
    "import pandas as pd\n",
    "import os\n",
    "import re\n",
    "import math\n",
    "from datetime import date\n",
    "import ftplib\n",
    "from ftplib import FTP\n",
    "import gzip as gz\n",
    "import collections\n",
    "from collections import deque,OrderedDict\n",
    "import sys\n",
    "import cProfile\n",
    "import multiprocessing\n",
    "import inspect\n",
    "#https://github.com/chaithemleib/intervaltree - don't use one that cannot support objects attached to intervals\n",
    "import yaml\n",
    "import datetime\n",
    "import ast\n",
    "import codecs\n",
    "import uuid\n",
    "import json\n",
    "# add liftover\n",
    "from pyliftover import LiftOver\n",
    "import hgvs.parser\n",
    "import hgvs.dataproviders.uta\n",
    "import hgvs.assemblymapper\n",
    "import hgvs.projector"
   ]
  },
  {
   "cell_type": "code",
   "execution_count": 9,
   "metadata": {},
   "outputs": [],
   "source": [
    "hgvsparser = hgvs.parser.Parser()"
   ]
  },
  {
   "cell_type": "code",
   "execution_count": 16,
   "metadata": {},
   "outputs": [],
   "source": [
    "hdp = hgvs.dataproviders.uta.connect()"
   ]
  },
  {
   "cell_type": "code",
   "execution_count": 17,
   "metadata": {},
   "outputs": [],
   "source": [
    "am = hgvs.assemblymapper.AssemblyMapper(hdp,assembly_name='GRCh37', alt_aln_method='splign',replace_reference=True)"
   ]
  },
  {
   "cell_type": "code",
   "execution_count": 18,
   "metadata": {},
   "outputs": [],
   "source": [
    "hgvs_g = 'NC_000007.13:g.36561662C>T'"
   ]
  },
  {
   "cell_type": "code",
   "execution_count": 19,
   "metadata": {},
   "outputs": [],
   "source": [
    "hgvs_c = 'NM_001637.3:c.1582G>A'"
   ]
  },
  {
   "cell_type": "code",
   "execution_count": 20,
   "metadata": {},
   "outputs": [],
   "source": [
    "hp = hgvs.parser.Parser()"
   ]
  },
  {
   "cell_type": "code",
   "execution_count": 21,
   "metadata": {},
   "outputs": [],
   "source": [
    "var_g = hp.parse_hgvs_variant(hgvs_g)"
   ]
  },
  {
   "cell_type": "code",
   "execution_count": 22,
   "metadata": {},
   "outputs": [
    {
     "data": {
      "text/plain": [
       "SequenceVariant(ac=NC_000007.13, type=g, posedit=36561662C>T, gene=None)"
      ]
     },
     "execution_count": 22,
     "metadata": {},
     "output_type": "execute_result"
    }
   ],
   "source": [
    "var_g"
   ]
  },
  {
   "cell_type": "code",
   "execution_count": 24,
   "metadata": {},
   "outputs": [
    {
     "data": {
      "text/plain": [
       "SimplePosition(base=36561662, uncertain=False)"
      ]
     },
     "execution_count": 24,
     "metadata": {},
     "output_type": "execute_result"
    }
   ],
   "source": [
    "var_g.posedit.pos.start"
   ]
  },
  {
   "cell_type": "code",
   "execution_count": 25,
   "metadata": {},
   "outputs": [
    {
     "data": {
      "text/plain": [
       "'NC_000007.13:g.36561662C>T'"
      ]
     },
     "execution_count": 25,
     "metadata": {},
     "output_type": "execute_result"
    }
   ],
   "source": [
    "str(var_g)"
   ]
  },
  {
   "cell_type": "code",
   "execution_count": 26,
   "metadata": {},
   "outputs": [
    {
     "data": {
      "text/plain": [
       "SimplePosition(base=36561662, uncertain=False)"
      ]
     },
     "execution_count": 26,
     "metadata": {},
     "output_type": "execute_result"
    }
   ],
   "source": [
    "var_g.posedit.pos.start"
   ]
  },
  {
   "cell_type": "code",
   "execution_count": 27,
   "metadata": {},
   "outputs": [
    {
     "data": {
      "text/plain": [
       "'NC_000007.13:g.36561662C>T'"
      ]
     },
     "execution_count": 27,
     "metadata": {},
     "output_type": "execute_result"
    }
   ],
   "source": [
    "str(var_g)"
   ]
  },
  {
   "cell_type": "code",
   "execution_count": 28,
   "metadata": {},
   "outputs": [],
   "source": [
    "hdp = hgvs.dataproviders.uta.connect()"
   ]
  },
  {
   "cell_type": "code",
   "execution_count": 29,
   "metadata": {},
   "outputs": [],
   "source": [
    "am = hgvs.assemblymapper.AssemblyMapper(hdp,assembly_name='GRCh37', alt_aln_method='splign',replace_reference=True)"
   ]
  },
  {
   "cell_type": "code",
   "execution_count": 30,
   "metadata": {},
   "outputs": [],
   "source": [
    "transcripts = am.relevant_transcripts(var_g)"
   ]
  },
  {
   "cell_type": "code",
   "execution_count": 31,
   "metadata": {},
   "outputs": [
    {
     "data": {
      "text/plain": [
       "['NM_001177506.1', 'NM_001177507.1', 'NM_001637.3']"
      ]
     },
     "execution_count": 31,
     "metadata": {},
     "output_type": "execute_result"
    }
   ],
   "source": [
    "sorted(transcripts)"
   ]
  },
  {
   "cell_type": "code",
   "execution_count": 32,
   "metadata": {},
   "outputs": [],
   "source": [
    "var_c = am.g_to_c(var_g, 'NM_001637.3')"
   ]
  },
  {
   "cell_type": "code",
   "execution_count": 33,
   "metadata": {},
   "outputs": [
    {
     "data": {
      "text/plain": [
       "SequenceVariant(ac=NM_001637.3, type=c, posedit=1582G>A, gene=None)"
      ]
     },
     "execution_count": 33,
     "metadata": {},
     "output_type": "execute_result"
    }
   ],
   "source": [
    "var_c"
   ]
  },
  {
   "cell_type": "code",
   "execution_count": 51,
   "metadata": {},
   "outputs": [
    {
     "data": {
      "text/plain": [
       "SequenceVariant(ac=NM_001177507.1, type=c, posedit=1486G>A, gene=None)"
      ]
     },
     "execution_count": 51,
     "metadata": {},
     "output_type": "execute_result"
    }
   ],
   "source": [
    "var_c2 = am.g_to_c(var_g, 'NM_001177507.1')\n",
    "var_c2"
   ]
  },
  {
   "cell_type": "code",
   "execution_count": 54,
   "metadata": {},
   "outputs": [
    {
     "data": {
      "text/plain": [
       "SequenceVariant(ac=NM_001177506.1, type=c, posedit=1582G>A, gene=None)"
      ]
     },
     "execution_count": 54,
     "metadata": {},
     "output_type": "execute_result"
    }
   ],
   "source": [
    "var_c3 = am.g_to_c(var_g,'NM_001177506.1')\n",
    "var_c3"
   ]
  },
  {
   "cell_type": "code",
   "execution_count": 34,
   "metadata": {},
   "outputs": [
    {
     "data": {
      "text/plain": [
       "'NM_001637.3:c.1582G>A'"
      ]
     },
     "execution_count": 34,
     "metadata": {},
     "output_type": "execute_result"
    }
   ],
   "source": [
    "str(var_c)"
   ]
  },
  {
   "cell_type": "code",
   "execution_count": 55,
   "metadata": {},
   "outputs": [
    {
     "data": {
      "text/plain": [
       "'NM_001177507.1:c.1486G>A'"
      ]
     },
     "execution_count": 55,
     "metadata": {},
     "output_type": "execute_result"
    }
   ],
   "source": [
    "str(var_c2)"
   ]
  },
  {
   "cell_type": "code",
   "execution_count": 59,
   "metadata": {},
   "outputs": [
    {
     "data": {
      "text/plain": [
       "'NM_001177506.1:c.1582G>A'"
      ]
     },
     "execution_count": 59,
     "metadata": {},
     "output_type": "execute_result"
    }
   ],
   "source": [
    "str(var_c3)"
   ]
  },
  {
   "cell_type": "code",
   "execution_count": 60,
   "metadata": {},
   "outputs": [
    {
     "data": {
      "text/plain": [
       "['__attrs_attrs__',\n",
       " '__class__',\n",
       " '__delattr__',\n",
       " '__dir__',\n",
       " '__doc__',\n",
       " '__eq__',\n",
       " '__format__',\n",
       " '__ge__',\n",
       " '__getattribute__',\n",
       " '__getstate__',\n",
       " '__gt__',\n",
       " '__hash__',\n",
       " '__init__',\n",
       " '__init_subclass__',\n",
       " '__le__',\n",
       " '__lt__',\n",
       " '__module__',\n",
       " '__ne__',\n",
       " '__new__',\n",
       " '__reduce__',\n",
       " '__reduce_ex__',\n",
       " '__repr__',\n",
       " '__setattr__',\n",
       " '__setstate__',\n",
       " '__sizeof__',\n",
       " '__slots__',\n",
       " '__str__',\n",
       " '__subclasshook__',\n",
       " '__weakref__',\n",
       " 'ac',\n",
       " 'fill_ref',\n",
       " 'format',\n",
       " 'gene',\n",
       " 'posedit',\n",
       " 'type',\n",
       " 'validate']"
      ]
     },
     "execution_count": 60,
     "metadata": {},
     "output_type": "execute_result"
    }
   ],
   "source": [
    "dir(var_c3)"
   ]
  },
  {
   "cell_type": "code",
   "execution_count": 63,
   "metadata": {},
   "outputs": [
    {
     "data": {
      "text/plain": [
       "<bound method SequenceVariant.validate of SequenceVariant(ac=NM_001177506.1, type=c, posedit=1582G>A, gene=None)>"
      ]
     },
     "execution_count": 63,
     "metadata": {},
     "output_type": "execute_result"
    }
   ],
   "source": [
    "var_c3.validate"
   ]
  },
  {
   "cell_type": "code",
   "execution_count": 73,
   "metadata": {},
   "outputs": [
    {
     "name": "stdout",
     "output_type": "stream",
     "text": [
      "NM_001177506.1:c.1584G>A: Variant reference (G) does not agree with reference sequence (A)\n"
     ]
    }
   ],
   "source": [
    "vr = hgvs.validator.Validator(hdp=hdp)\n",
    "try:\n",
    "    # shift the NM_001177506.1 position +2 and see if this validates\n",
    "    vr.validate( hp.parse_hgvs_variant('NM_001177506.1:c.1584G>A') )\n",
    "    vr.validate( hp.parse_hgvs_variant('NM_001637.3:c.1582G>A') )\n",
    "except hgvs.exceptions.HGVSError as e:\n",
    "    print(e)"
   ]
  },
  {
   "cell_type": "code",
   "execution_count": 36,
   "metadata": {},
   "outputs": [],
   "source": [
    "var_p = am.c_to_p(var_c)"
   ]
  },
  {
   "cell_type": "code",
   "execution_count": 37,
   "metadata": {},
   "outputs": [
    {
     "data": {
      "text/plain": [
       "SequenceVariant(ac=NP_001628.1, type=p, posedit=(Gly528Arg), gene=None)"
      ]
     },
     "execution_count": 37,
     "metadata": {},
     "output_type": "execute_result"
    }
   ],
   "source": [
    "var_p"
   ]
  },
  {
   "cell_type": "code",
   "execution_count": 38,
   "metadata": {},
   "outputs": [
    {
     "data": {
      "text/plain": [
       "'NP_001628.1:p.(Gly528Arg)'"
      ]
     },
     "execution_count": 38,
     "metadata": {},
     "output_type": "execute_result"
    }
   ],
   "source": [
    " str(var_p)"
   ]
  },
  {
   "cell_type": "code",
   "execution_count": 39,
   "metadata": {},
   "outputs": [],
   "source": [
    "var_p.posedit.uncertain = False"
   ]
  },
  {
   "cell_type": "code",
   "execution_count": 40,
   "metadata": {},
   "outputs": [
    {
     "data": {
      "text/plain": [
       "'NP_001628.1:p.Gly528Arg'"
      ]
     },
     "execution_count": 40,
     "metadata": {},
     "output_type": "execute_result"
    }
   ],
   "source": [
    "str(var_p)"
   ]
  },
  {
   "cell_type": "code",
   "execution_count": 41,
   "metadata": {},
   "outputs": [
    {
     "data": {
      "text/plain": [
       "'NP_001628.1:p.G528R'"
      ]
     },
     "execution_count": 41,
     "metadata": {},
     "output_type": "execute_result"
    }
   ],
   "source": [
    " var_p.format(conf={\"p_3_letter\": False})"
   ]
  },
  {
   "cell_type": "code",
   "execution_count": 42,
   "metadata": {},
   "outputs": [],
   "source": [
    "hn = hgvs.normalizer.Normalizer(hdp)"
   ]
  },
  {
   "cell_type": "code",
   "execution_count": 43,
   "metadata": {},
   "outputs": [
    {
     "data": {
      "text/plain": [
       "SequenceVariant(ac=NM_001166478.1, type=c, posedit=35dup, gene=None)"
      ]
     },
     "execution_count": 43,
     "metadata": {},
     "output_type": "execute_result"
    }
   ],
   "source": [
    "hn.normalize(hp.parse_hgvs_variant('NM_001166478.1:c.35_36insT'))"
   ]
  },
  {
   "cell_type": "code",
   "execution_count": 44,
   "metadata": {},
   "outputs": [],
   "source": [
    "c1 = hp.parse_hgvs_variant('NM_001166478.1:c.31del')"
   ]
  },
  {
   "cell_type": "code",
   "execution_count": 45,
   "metadata": {},
   "outputs": [
    {
     "data": {
      "text/plain": [
       "SequenceVariant(ac=NM_001166478.1, type=c, posedit=31del, gene=None)"
      ]
     },
     "execution_count": 45,
     "metadata": {},
     "output_type": "execute_result"
    }
   ],
   "source": [
    "c1"
   ]
  },
  {
   "cell_type": "code",
   "execution_count": 46,
   "metadata": {},
   "outputs": [],
   "source": [
    "c1n = hn.normalize(c1)"
   ]
  },
  {
   "cell_type": "code",
   "execution_count": 47,
   "metadata": {},
   "outputs": [],
   "source": [
    " g = am.c_to_g(c1)"
   ]
  },
  {
   "cell_type": "code",
   "execution_count": 48,
   "metadata": {},
   "outputs": [
    {
     "data": {
      "text/plain": [
       "SequenceVariant(ac=NC_000006.11, type=g, posedit=49917127del, gene=None)"
      ]
     },
     "execution_count": 48,
     "metadata": {},
     "output_type": "execute_result"
    }
   ],
   "source": [
    "g"
   ]
  },
  {
   "cell_type": "code",
   "execution_count": 49,
   "metadata": {},
   "outputs": [],
   "source": [
    "c2 = am.g_to_c(g, c1.ac)"
   ]
  },
  {
   "cell_type": "code",
   "execution_count": 50,
   "metadata": {},
   "outputs": [
    {
     "data": {
      "text/plain": [
       "SequenceVariant(ac=NM_001166478.1, type=c, posedit=35del, gene=None)"
      ]
     },
     "execution_count": 50,
     "metadata": {},
     "output_type": "execute_result"
    }
   ],
   "source": [
    "c2"
   ]
  },
  {
   "cell_type": "code",
   "execution_count": 74,
   "metadata": {},
   "outputs": [],
   "source": [
    "var_c1 = hgvsparser.parse_hgvs_variant('NM_001261456.1:c.1762A>G')"
   ]
  },
  {
   "cell_type": "code",
   "execution_count": 77,
   "metadata": {},
   "outputs": [],
   "source": [
    "pj = hgvs.projector.Projector(hdp=hdp,\n",
    "                              alt_ac='NC_000001.10',\n",
    "                              src_ac=var_c1.ac,\n",
    "                              dst_ac='NM_001261457.1')"
   ]
  },
  {
   "cell_type": "code",
   "execution_count": 78,
   "metadata": {},
   "outputs": [
    {
     "data": {
      "text/plain": [
       "SequenceVariant(ac=NM_001261457.1, type=c, posedit=1534A>G, gene=None)"
      ]
     },
     "execution_count": 78,
     "metadata": {},
     "output_type": "execute_result"
    }
   ],
   "source": [
    "pj.project_variant_forward(var_c1)"
   ]
  },
  {
   "cell_type": "code",
   "execution_count": 79,
   "metadata": {},
   "outputs": [],
   "source": [
    "hdp = hgvs.dataproviders.uta.connect()\n",
    "variantmapper = hgvs.variantmapper.VariantMapper(hdp)\n",
    "hgvsparser = hgvs.parser.Parser()"
   ]
  },
  {
   "cell_type": "code",
   "execution_count": 80,
   "metadata": {},
   "outputs": [
    {
     "data": {
      "text/plain": [
       "(SequenceVariant(ac=NM_001261456.1, type=c, posedit=1762A>G, gene=None),\n",
       " SequenceVariant(ac=NP_001248385.1, type=p, posedit=(Met588Val), gene=None))"
      ]
     },
     "execution_count": 80,
     "metadata": {},
     "output_type": "execute_result"
    }
   ],
   "source": [
    "var_c1 = hgvsparser.parse_hgvs_variant('NM_001261456.1:c.1762A>G')\n",
    "var_p1 = variantmapper.c_to_p(var_c1, None)\n",
    "var_c1, var_p1"
   ]
  },
  {
   "cell_type": "code",
   "execution_count": 81,
   "metadata": {},
   "outputs": [
    {
     "data": {
      "text/plain": [
       "SequenceVariant(ac=NC_000001.10, type=g, posedit=160793560A>G, gene=None)"
      ]
     },
     "execution_count": 81,
     "metadata": {},
     "output_type": "execute_result"
    }
   ],
   "source": [
    "var_g = variantmapper.c_to_g(var_c1,'NC_000001.10')\n",
    "var_g"
   ]
  },
  {
   "cell_type": "code",
   "execution_count": 82,
   "metadata": {},
   "outputs": [
    {
     "data": {
      "text/plain": [
       "[['LY9', 114, 2040, 'NM_001261456.1', 'AC_000133.1', 'splign'],\n",
       " ['LY9', 114, 2040, 'NM_001261456.1', 'NC_000001.10', 'blat'],\n",
       " ['LY9', 114, 2040, 'NM_001261456.1', 'NC_000001.10', 'splign'],\n",
       " ['LY9', 114, 2040, 'NM_001261456.1', 'NC_000001.11', 'splign'],\n",
       " ['LY9', 114, 2040, 'NM_001261456.1', 'NC_018912.2', 'splign'],\n",
       " ['LY9', 114, 2040, 'ENST00000368037', 'NC_000001.10', 'genebuild'],\n",
       " ['LY9', 114, 696, 'NM_001033667.2', 'AC_000133.1', 'splign'],\n",
       " ['LY9', 114, 696, 'NM_001033667.2', 'NC_000001.10', 'blat'],\n",
       " ['LY9', 114, 696, 'NM_001033667.2', 'NC_000001.10', 'splign'],\n",
       " ['LY9', 114, 696, 'NM_001033667.2', 'NC_000001.11', 'splign'],\n",
       " ['LY9', 114, 696, 'NM_001033667.2', 'NC_018912.2', 'splign'],\n",
       " ['LY9', 114, 2082, 'NM_002348.3', 'AC_000133.1', 'splign'],\n",
       " ['LY9', 114, 2082, 'NM_002348.3', 'NC_000001.10', 'blat'],\n",
       " ['LY9', 114, 2082, 'NM_002348.3', 'NC_000001.10', 'splign'],\n",
       " ['LY9', 114, 2082, 'NM_002348.3', 'NC_000001.11', 'splign'],\n",
       " ['LY9', 114, 2082, 'NM_002348.3', 'NC_018912.2', 'splign'],\n",
       " ['LY9', 114, 1812, 'NM_001261457.1', 'AC_000133.1', 'splign'],\n",
       " ['LY9', 114, 1812, 'NM_001261457.1', 'NC_000001.10', 'blat'],\n",
       " ['LY9', 114, 1812, 'NM_001261457.1', 'NC_000001.10', 'splign'],\n",
       " ['LY9', 114, 1812, 'NM_001261457.1', 'NC_000001.11', 'splign'],\n",
       " ['LY9', 114, 1812, 'NM_001261457.1', 'NC_018912.2', 'splign'],\n",
       " ['LY9', None, None, 'ENST00000474998', 'NC_000001.10', 'genebuild'],\n",
       " ['LY9', 76, 1774, 'ENST00000392203', 'NC_000001.10', 'genebuild'],\n",
       " ['LY9', 30, 1998, 'ENST00000263285', 'NC_000001.10', 'genebuild'],\n",
       " ['LY9', 1, 583, 'ENST00000368039', 'NC_000001.10', 'genebuild'],\n",
       " ['LY9', None, None, 'ENST00000480837', 'NC_000001.10', 'genebuild'],\n",
       " ['LY9', None, None, 'ENST00000490902', 'NC_000001.10', 'genebuild'],\n",
       " ['LY9', None, None, 'ENST00000471816', 'NC_000001.10', 'genebuild'],\n",
       " ['LY9', None, None, 'ENST00000485624', 'NC_000001.10', 'genebuild'],\n",
       " ['LY9', None, None, 'ENST00000479663', 'NC_000001.10', 'genebuild'],\n",
       " ['LY9', 0, 1024, 'ENST00000368035', 'NC_000001.10', 'genebuild'],\n",
       " ['LY9', 50, 1616, 'ENST00000341032', 'NC_000001.10', 'genebuild'],\n",
       " ['LY9', 170, 1751, 'ENST00000368041', 'NC_000001.10', 'genebuild'],\n",
       " ['LY9', 1094, 1907, 'ENST00000368040', 'NC_000001.10', 'genebuild']]"
      ]
     },
     "execution_count": 82,
     "metadata": {},
     "output_type": "execute_result"
    }
   ],
   "source": [
    "txs = hdp.get_tx_for_gene('LY9')\n",
    "txs"
   ]
  },
  {
   "cell_type": "code",
   "execution_count": 83,
   "metadata": {},
   "outputs": [
    {
     "data": {
      "text/plain": [
       "[['ABCA4', 87, 6909, 'ENST00000370225', 'NC_000001.10', 'genebuild'],\n",
       " ['ABCA4', None, None, 'ENST00000465352', 'NC_000001.10', 'genebuild'],\n",
       " ['ABCA4', None, None, 'ENST00000484388', 'NC_000001.10', 'genebuild'],\n",
       " ['ABCA4', None, None, 'ENST00000470771', 'NC_000001.10', 'genebuild'],\n",
       " ['ABCA4', None, None, 'ENST00000460514', 'NC_000001.10', 'genebuild'],\n",
       " ['ABCA4', None, None, 'ENST00000472033', 'NC_000001.10', 'genebuild'],\n",
       " ['ABCA4', 93, 1725, 'ENST00000536513', 'NC_000001.10', 'genebuild'],\n",
       " ['ABCA4', 225, 1404, 'ENST00000535881', 'NC_000001.10', 'genebuild'],\n",
       " ['ABCA4', 80, 3020, 'ENST00000535735', 'NC_000001.10', 'genebuild'],\n",
       " ['ABCA4', 104, 6926, 'NM_000350.2', 'AC_000133.1', 'splign'],\n",
       " ['ABCA4', 104, 6926, 'NM_000350.2', 'NC_000001.10', 'blat'],\n",
       " ['ABCA4', 104, 6926, 'NM_000350.2', 'NC_000001.10', 'splign'],\n",
       " ['ABCA4', 104, 6926, 'NM_000350.2', 'NC_000001.11', 'splign'],\n",
       " ['ABCA4', 104, 6926, 'NM_000350.2', 'NC_018912.2', 'splign'],\n",
       " ['ABCA4', 104, 6926, 'NM_000350.2', 'NG_009073.1', 'splign']]"
      ]
     },
     "execution_count": 83,
     "metadata": {},
     "output_type": "execute_result"
    }
   ],
   "source": [
    "txs = hdp.get_tx_for_gene('ABCA4')\n",
    "txs"
   ]
  },
  {
   "cell_type": "code",
   "execution_count": 84,
   "metadata": {},
   "outputs": [
    {
     "data": {
      "text/plain": [
       "(SequenceVariant(ac=NM_001261457.1, type=c, posedit=1534A>G, gene=None),\n",
       " SequenceVariant(ac=NP_001248386.1, type=p, posedit=(Met512Val), gene=None))"
      ]
     },
     "execution_count": 84,
     "metadata": {},
     "output_type": "execute_result"
    }
   ],
   "source": [
    "var_c2 = variantmapper.g_to_c(var_g,'NM_001261457.1',alt_aln_method='splign')\n",
    "var_p2 = variantmapper.c_to_p(var_c2, None)\n",
    "var_c2, var_p2"
   ]
  },
  {
   "cell_type": "code",
   "execution_count": 85,
   "metadata": {},
   "outputs": [
    {
     "data": {
      "text/plain": [
       "'NM_001166478.1:c.35dup'"
      ]
     },
     "execution_count": 85,
     "metadata": {},
     "output_type": "execute_result"
    }
   ],
   "source": [
    "v = hp.parse_hgvs_variant(\"NM_001166478.1:c.30_31insT\")\n",
    "str(hn.normalize(v))"
   ]
  },
  {
   "cell_type": "code",
   "execution_count": null,
   "metadata": {},
   "outputs": [],
   "source": []
  }
 ],
 "metadata": {
  "kernelspec": {
   "display_name": "Python 3",
   "language": "python",
   "name": "python3"
  },
  "language_info": {
   "codemirror_mode": {
    "name": "ipython",
    "version": 3
   },
   "file_extension": ".py",
   "mimetype": "text/x-python",
   "name": "python",
   "nbconvert_exporter": "python",
   "pygments_lexer": "ipython3",
   "version": "3.8.2"
  }
 },
 "nbformat": 4,
 "nbformat_minor": 4
}
