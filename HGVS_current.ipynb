{
 "cells": [
  {
   "cell_type": "code",
   "execution_count": 2,
   "metadata": {},
   "outputs": [],
   "source": [
    "import datetime\n",
    "import numpy as np\n",
    "#import scipy as sp\n",
    "#import uuid\n",
    "import hashlib\n",
    "import matplotlib.pyplot as plt\n",
    "#from mpl_toolkits.mplot3d import Axes3D\n",
    "import pandas as pd\n",
    "import os\n",
    "import re\n",
    "import math\n",
    "from datetime import date\n",
    "import ftplib\n",
    "from ftplib import FTP\n",
    "import gzip as gz\n",
    "import collections\n",
    "from collections import deque,OrderedDict,namedtuple\n",
    "import sys\n",
    "import cProfile\n",
    "import multiprocessing\n",
    "import inspect\n",
    "#https://github.com/chaithemleib/intervaltree - don't use one that cannot support objects attached to intervals\n",
    "import yaml\n",
    "import datetime\n",
    "import time\n",
    "import ast\n",
    "import codecs\n",
    "import uuid\n",
    "import json\n",
    "# add liftover\n",
    "from pyliftover import LiftOver\n",
    "import hgvs.parser\n",
    "import hgvs.dataproviders.uta\n",
    "import hgvs.assemblymapper\n",
    "import hgvs.projector\n",
    "# internet\n",
    "import urllib3\n",
    "import certifi\n",
    "import xmlrpc.client"
   ]
  },
  {
   "cell_type": "code",
   "execution_count": 3,
   "metadata": {},
   "outputs": [
    {
     "data": {
      "application/javascript": [
       "IPython.notebook.set_autosave_interval(0)"
      ]
     },
     "metadata": {},
     "output_type": "display_data"
    },
    {
     "name": "stdout",
     "output_type": "stream",
     "text": [
      "Autosave disabled\n"
     ]
    }
   ],
   "source": [
    "# Notebook display options\n",
    "#pd.set_option('display.height', 1000)\n",
    "pd.set_option('display.max_rows', 10000)\n",
    "pd.set_option('display.max_columns', 1000)\n",
    "pd.set_option('max_colwidth',1000)\n",
    "%matplotlib inline\n",
    "%autosave 0"
   ]
  },
  {
   "cell_type": "code",
   "execution_count": 4,
   "metadata": {},
   "outputs": [],
   "source": [
    "hdp = hgvs.dataproviders.uta.connect()\n",
    "variantmapper = hgvs.variantmapper.VariantMapper(hdp)\n",
    "am = hgvs.assemblymapper.AssemblyMapper(hdp,assembly_name='GRCh37', alt_aln_method='splign',replace_reference=True)\n",
    "hp = hgvs.parser.Parser()\n",
    "hn = hgvs.normalizer.Normalizer(hdp)\n",
    "vr = hgvs.validator.Validator(hdp=hdp)"
   ]
  },
  {
   "cell_type": "markdown",
   "metadata": {},
   "source": [
    "# genomic coords tester"
   ]
  },
  {
   "cell_type": "code",
   "execution_count": 5,
   "metadata": {},
   "outputs": [],
   "source": [
    "hgvs_g = 'NC_000007.13:g.36561662C>T'"
   ]
  },
  {
   "cell_type": "markdown",
   "metadata": {},
   "source": [
    "# cDNA coord tester"
   ]
  },
  {
   "cell_type": "code",
   "execution_count": 6,
   "metadata": {},
   "outputs": [],
   "source": [
    "hgvs_c = 'NM_001637.3:c.1582G>A'"
   ]
  },
  {
   "cell_type": "markdown",
   "metadata": {},
   "source": [
    "# parse genomic"
   ]
  },
  {
   "cell_type": "code",
   "execution_count": 7,
   "metadata": {},
   "outputs": [],
   "source": [
    "var_g = hp.parse_hgvs_variant(hgvs_g)"
   ]
  },
  {
   "cell_type": "code",
   "execution_count": 8,
   "metadata": {},
   "outputs": [
    {
     "data": {
      "text/plain": [
       "SequenceVariant(ac=NC_000007.13, type=g, posedit=36561662C>T, gene=None)"
      ]
     },
     "execution_count": 8,
     "metadata": {},
     "output_type": "execute_result"
    }
   ],
   "source": [
    "var_g"
   ]
  },
  {
   "cell_type": "code",
   "execution_count": 9,
   "metadata": {},
   "outputs": [
    {
     "data": {
      "text/plain": [
       "SimplePosition(base=36561662, uncertain=False)"
      ]
     },
     "execution_count": 9,
     "metadata": {},
     "output_type": "execute_result"
    }
   ],
   "source": [
    "var_g.posedit.pos.start"
   ]
  },
  {
   "cell_type": "code",
   "execution_count": 10,
   "metadata": {},
   "outputs": [
    {
     "data": {
      "text/plain": [
       "'NC_000007.13:g.36561662C>T'"
      ]
     },
     "execution_count": 10,
     "metadata": {},
     "output_type": "execute_result"
    }
   ],
   "source": [
    "str(var_g)"
   ]
  },
  {
   "cell_type": "markdown",
   "metadata": {},
   "source": [
    "# get transcripts of a gene"
   ]
  },
  {
   "cell_type": "code",
   "execution_count": 11,
   "metadata": {},
   "outputs": [],
   "source": [
    "transcripts = am.relevant_transcripts(var_g)"
   ]
  },
  {
   "cell_type": "code",
   "execution_count": 12,
   "metadata": {},
   "outputs": [
    {
     "data": {
      "text/plain": [
       "['NM_001177506.1', 'NM_001177507.1', 'NM_001637.3']"
      ]
     },
     "execution_count": 12,
     "metadata": {},
     "output_type": "execute_result"
    }
   ],
   "source": [
    "sorted(transcripts)"
   ]
  },
  {
   "cell_type": "markdown",
   "metadata": {},
   "source": [
    "# project a genomic variant onto a cDNA variant"
   ]
  },
  {
   "cell_type": "code",
   "execution_count": null,
   "metadata": {},
   "outputs": [],
   "source": [
    "var_c = am.g_to_c(var_g, 'NM_001637.3')"
   ]
  },
  {
   "cell_type": "code",
   "execution_count": null,
   "metadata": {},
   "outputs": [],
   "source": [
    "var_c"
   ]
  },
  {
   "cell_type": "code",
   "execution_count": null,
   "metadata": {},
   "outputs": [],
   "source": [
    "var_c2 = am.g_to_c(var_g, 'NM_001177507.1')\n",
    "var_c2"
   ]
  },
  {
   "cell_type": "code",
   "execution_count": null,
   "metadata": {},
   "outputs": [],
   "source": [
    "var_c3 = am.g_to_c(var_g,'NM_001177506.1')\n",
    "var_c3"
   ]
  },
  {
   "cell_type": "code",
   "execution_count": null,
   "metadata": {},
   "outputs": [],
   "source": [
    "str(var_c)"
   ]
  },
  {
   "cell_type": "code",
   "execution_count": null,
   "metadata": {},
   "outputs": [],
   "source": [
    "str(var_c2)"
   ]
  },
  {
   "cell_type": "code",
   "execution_count": null,
   "metadata": {},
   "outputs": [],
   "source": [
    "str(var_c3)"
   ]
  },
  {
   "cell_type": "code",
   "execution_count": null,
   "metadata": {},
   "outputs": [],
   "source": [
    "#dir(var_c3)"
   ]
  },
  {
   "cell_type": "markdown",
   "metadata": {},
   "source": [
    "# validate a variant"
   ]
  },
  {
   "cell_type": "code",
   "execution_count": null,
   "metadata": {},
   "outputs": [],
   "source": [
    "var_c3.validate"
   ]
  },
  {
   "cell_type": "code",
   "execution_count": null,
   "metadata": {},
   "outputs": [],
   "source": [
    "try:\n",
    "    # shift the NM_001177506.1 position +2 1582 to 1584 and see if this validates\n",
    "    vr.validate( hp.parse_hgvs_variant('NM_001177506.1:c.1584G>A') )\n",
    "    vr.validate( hp.parse_hgvs_variant('NM_001637.3:c.1582G>A') )\n",
    "except hgvs.exceptions.HGVSError as e:\n",
    "    print(e)"
   ]
  },
  {
   "cell_type": "code",
   "execution_count": null,
   "metadata": {},
   "outputs": [],
   "source": [
    "var_p = am.c_to_p(var_c)"
   ]
  },
  {
   "cell_type": "code",
   "execution_count": null,
   "metadata": {},
   "outputs": [],
   "source": [
    "var_p"
   ]
  },
  {
   "cell_type": "code",
   "execution_count": null,
   "metadata": {},
   "outputs": [],
   "source": [
    " str(var_p)"
   ]
  },
  {
   "cell_type": "code",
   "execution_count": null,
   "metadata": {},
   "outputs": [],
   "source": [
    "var_p.posedit.uncertain = False"
   ]
  },
  {
   "cell_type": "code",
   "execution_count": null,
   "metadata": {},
   "outputs": [],
   "source": [
    "str(var_p)"
   ]
  },
  {
   "cell_type": "code",
   "execution_count": null,
   "metadata": {},
   "outputs": [],
   "source": [
    " var_p.format(conf={\"p_3_letter\": False})"
   ]
  },
  {
   "cell_type": "markdown",
   "metadata": {},
   "source": [
    "# Normalize a variant "
   ]
  },
  {
   "cell_type": "code",
   "execution_count": null,
   "metadata": {},
   "outputs": [],
   "source": [
    "hn.normalize(hp.parse_hgvs_variant('NM_001166478.1:c.35_36insT'))"
   ]
  },
  {
   "cell_type": "code",
   "execution_count": null,
   "metadata": {},
   "outputs": [],
   "source": [
    "c1 = hp.parse_hgvs_variant('NM_001166478.1:c.31del')"
   ]
  },
  {
   "cell_type": "code",
   "execution_count": null,
   "metadata": {},
   "outputs": [],
   "source": [
    "c1"
   ]
  },
  {
   "cell_type": "code",
   "execution_count": null,
   "metadata": {},
   "outputs": [],
   "source": [
    "c1n = hn.normalize(c1)"
   ]
  },
  {
   "cell_type": "code",
   "execution_count": null,
   "metadata": {},
   "outputs": [],
   "source": [
    "c1n"
   ]
  },
  {
   "cell_type": "code",
   "execution_count": null,
   "metadata": {},
   "outputs": [],
   "source": [
    "g = am.c_to_g(c1)"
   ]
  },
  {
   "cell_type": "code",
   "execution_count": null,
   "metadata": {},
   "outputs": [],
   "source": [
    "g"
   ]
  },
  {
   "cell_type": "code",
   "execution_count": null,
   "metadata": {},
   "outputs": [],
   "source": [
    "gn=am.c_to_g(c1n)"
   ]
  },
  {
   "cell_type": "code",
   "execution_count": null,
   "metadata": {},
   "outputs": [],
   "source": [
    "gn"
   ]
  },
  {
   "cell_type": "code",
   "execution_count": null,
   "metadata": {},
   "outputs": [],
   "source": [
    "c2 = am.g_to_c(g, c1.ac)"
   ]
  },
  {
   "cell_type": "code",
   "execution_count": null,
   "metadata": {},
   "outputs": [],
   "source": [
    "c2"
   ]
  },
  {
   "cell_type": "code",
   "execution_count": null,
   "metadata": {},
   "outputs": [],
   "source": [
    "var_c1 = hgvsparser.parse_hgvs_variant('NM_001261456.1:c.1762A>G')"
   ]
  },
  {
   "cell_type": "code",
   "execution_count": null,
   "metadata": {},
   "outputs": [],
   "source": [
    "pj = hgvs.projector.Projector(hdp=hdp,\n",
    "                              alt_ac='NC_000001.10',\n",
    "                              src_ac=var_c1.ac,\n",
    "                              dst_ac='NM_001261457.1')"
   ]
  },
  {
   "cell_type": "code",
   "execution_count": null,
   "metadata": {},
   "outputs": [],
   "source": [
    "pj.project_variant_forward(var_c1)"
   ]
  },
  {
   "cell_type": "code",
   "execution_count": null,
   "metadata": {},
   "outputs": [],
   "source": [
    "hdp = hgvs.dataproviders.uta.connect()\n",
    "variantmapper = hgvs.variantmapper.VariantMapper(hdp)\n",
    "hgvsparser = hgvs.parser.Parser()"
   ]
  },
  {
   "cell_type": "markdown",
   "metadata": {},
   "source": [
    "# project cDNA onto protein"
   ]
  },
  {
   "cell_type": "code",
   "execution_count": null,
   "metadata": {},
   "outputs": [],
   "source": [
    "var_c1 = hgvsparser.parse_hgvs_variant('NM_001261456.1:c.1762A>G')\n",
    "var_p1 = variantmapper.c_to_p(var_c1, None)\n",
    "var_c1, var_p1"
   ]
  },
  {
   "cell_type": "code",
   "execution_count": null,
   "metadata": {},
   "outputs": [],
   "source": [
    "var_g = variantmapper.c_to_g(var_c1,'NC_000001.10')\n",
    "var_g"
   ]
  },
  {
   "cell_type": "markdown",
   "metadata": {},
   "source": [
    "# get info manually on a variants within genes"
   ]
  },
  {
   "cell_type": "code",
   "execution_count": null,
   "metadata": {},
   "outputs": [],
   "source": [
    "txs = hdp.get_tx_for_gene('LY9')\n",
    "txs"
   ]
  },
  {
   "cell_type": "code",
   "execution_count": null,
   "metadata": {},
   "outputs": [],
   "source": [
    "txs = hdp.get_tx_for_gene('ABCA4')\n",
    "txs"
   ]
  },
  {
   "cell_type": "code",
   "execution_count": null,
   "metadata": {},
   "outputs": [],
   "source": [
    "var_c2 = variantmapper.g_to_c(var_g,'NM_001261457.1',alt_aln_method='splign')\n",
    "var_p2 = variantmapper.c_to_p(var_c2, None)\n",
    "var_c2, var_p2"
   ]
  },
  {
   "cell_type": "markdown",
   "metadata": {},
   "source": [
    "# Normalize a structural variant"
   ]
  },
  {
   "cell_type": "code",
   "execution_count": null,
   "metadata": {},
   "outputs": [],
   "source": [
    "v = hp.parse_hgvs_variant(\"NM_001166478.1:c.30_31insT\")\n",
    "str(hn.normalize(v))"
   ]
  },
  {
   "cell_type": "markdown",
   "metadata": {},
   "source": [
    "# DATA! : test this on a real data-set"
   ]
  },
  {
   "cell_type": "code",
   "execution_count": 13,
   "metadata": {},
   "outputs": [],
   "source": [
    "dt={'ALLELEID': int,'VariationID': int, 'SCV': str, 'Submitter': str, 'chrom': str, 'pos': int, 'ref': str, 'alt': str, 'CLNHGVS': object}\n",
    "hgvs_df=pd.read_csv('/mnt/c/Users/mcgold/DATA/HGVStestFile.tsv',dtype=dt,sep=\"\\t\",header=0)"
   ]
  },
  {
   "cell_type": "markdown",
   "metadata": {},
   "source": [
    "# put this together and check a file that has a column of HGVS g data"
   ]
  },
  {
   "cell_type": "code",
   "execution_count": null,
   "metadata": {},
   "outputs": [
    {
     "name": "stdout",
     "output_type": "stream",
     "text": [
      "96938\t['NC_000013.10:g.32918712_32918716del']\t['NM_000059.3']\n",
      "\tNORMALIZATION PASS: NM_000059.3:c.6859_6863del=NM_000059.3:c.6859_6863del\n",
      "\tNORMALIZATION PASS: NP_000050.2:p.(Arg2287LeufsTer4)=NP_000050.2:p.(Arg2287LeufsTer4)\n",
      "102767\t['NC_000013.10:g.32937324C>A']\t['NM_000059.3']\n",
      "\tNORMALIZATION PASS: NM_000059.3:c.7985C>A=NM_000059.3:c.7985C>A\n",
      "\tNORMALIZATION PASS: NP_000050.2:p.(Thr2662Lys)=NP_000050.2:p.(Thr2662Lys)\n"
     ]
    },
    {
     "name": "stderr",
     "output_type": "stream",
     "text": [
      "Normalization of intronic variants is not supported; returning unnormalized variant\n"
     ]
    },
    {
     "name": "stdout",
     "output_type": "stream",
     "text": [
      "231894\t['NC_000013.10:g.32921037A>G']\t['NM_000059.3']\n",
      "\tNORMALIZATION NULL: None=NM_000059.3:c.7007+4A>G\n",
      "\tNORMALIZATION PASS: NP_000050.2:p.?=NP_000050.2:p.?\n"
     ]
    },
    {
     "name": "stderr",
     "output_type": "stream",
     "text": [
      "Normalization of intronic variants is not supported; returning unnormalized variant\n"
     ]
    },
    {
     "name": "stdout",
     "output_type": "stream",
     "text": [
      "66722\t['NC_000013.10:g.32900753A>G']\t['NM_000059.3']\n",
      "\tNORMALIZATION NULL: None=NM_000059.3:c.631+3A>G\n",
      "\tNORMALIZATION PASS: NP_000050.2:p.?=NP_000050.2:p.?\n",
      "180681\t['NC_000013.10:g.32953990A>G']\t['NM_000059.3']\n",
      "\tNORMALIZATION PASS: NM_000059.3:c.9057A>G=NM_000059.3:c.9057A>G\n",
      "\tNORMALIZATION PASS: NP_000050.2:p.(Lys3019=)=NP_000050.2:p.(Lys3019=)\n"
     ]
    },
    {
     "name": "stderr",
     "output_type": "stream",
     "text": [
      "Normalization of intronic variants is not supported; returning unnormalized variant\n"
     ]
    },
    {
     "name": "stdout",
     "output_type": "stream",
     "text": [
      "97293\t['NC_000013.10:g.32900226_32900229del']\t['NM_000059.3']\n",
      "\tNORMALIZATION NULL: None=NM_000059.3:c.426-12_426-9del\n",
      "\tNORMALIZATION PASS: NP_000050.2:p.?=NP_000050.2:p.?\n"
     ]
    },
    {
     "name": "stderr",
     "output_type": "stream",
     "text": [
      "Normalization of intronic variants is not supported; returning unnormalized variant\n"
     ]
    },
    {
     "name": "stdout",
     "output_type": "stream",
     "text": [
      "262826\t['NC_000013.10:g.32918791G>A']\t['NM_000059.3']\n",
      "\tNORMALIZATION NULL: None=NM_000059.3:c.6937+1G>A\n",
      "\tNORMALIZATION PASS: NP_000050.2:p.?=NP_000050.2:p.?\n",
      "262852\t['NC_000013.10:g.32954050G>T']\t['NM_000059.3']\n",
      "\tNORMALIZATION PASS: NM_000059.3:c.9117G>T=NM_000059.3:c.9117G>T\n",
      "\tNORMALIZATION PASS: NP_000050.2:p.(Pro3039=)=NP_000050.2:p.(Pro3039=)\n"
     ]
    },
    {
     "name": "stderr",
     "output_type": "stream",
     "text": [
      "Normalization of intronic variants is not supported; returning unnormalized variant\n"
     ]
    },
    {
     "name": "stdout",
     "output_type": "stream",
     "text": [
      "476531\t['NC_000013.10:g.32893209A>G']\t['NM_000059.3']\n",
      "\tNORMALIZATION NULL: None=NM_000059.3:c.68-5A>G\n",
      "\tNORMALIZATION PASS: NP_000050.2:p.?=NP_000050.2:p.?\n",
      "617912\t['NC_000013.10:g.32890598del']\t['NM_000059.3']\n",
      "\tNORMALIZATION PASS: NM_000059.3:c.1del=NM_000059.3:c.1del\n",
      "\tNORMALIZATION NULL: None=NP_000050.2:p.Met1?\n",
      "67139\t['NC_000013.10:g.32937348C>T']\t['NM_000059.3']\n",
      "\tNORMALIZATION PASS: NM_000059.3:c.8009C>T=NM_000059.3:c.8009C>T\n",
      "\tNORMALIZATION PASS: NP_000050.2:p.(Ser2670Leu)=NP_000050.2:p.(Ser2670Leu)\n",
      "46711\t['NC_000013.10:g.32944557C>T']\t['NM_000059.3']\n",
      "\tNORMALIZATION PASS: NM_000059.3:c.8350C>T=NM_000059.3:c.8350C>T\n",
      "\tNORMALIZATION PASS: NP_000050.2:p.(Arg2784Trp)=NP_000050.2:p.(Arg2784Trp)\n"
     ]
    },
    {
     "name": "stderr",
     "output_type": "stream",
     "text": [
      "Normalization of intronic variants is not supported; returning unnormalized variant\n"
     ]
    },
    {
     "name": "stdout",
     "output_type": "stream",
     "text": [
      "183616\t['NC_000013.10:g.32893212A>G']\t['NM_000059.3']\n",
      "\tNORMALIZATION NULL: None=NM_000059.3:c.68-2A>G\n",
      "\tNORMALIZATION PASS: NP_000050.2:p.?=NP_000050.2:p.?\n",
      "46679\t['NC_000013.10:g.32936722A>G']\t['NM_000059.3']\n",
      "\tNORMALIZATION PASS: NM_000059.3:c.7868A>G=NM_000059.3:c.7868A>G\n",
      "\tNORMALIZATION PASS: NP_000050.2:p.(His2623Arg)=NP_000050.2:p.(His2623Arg)\n",
      "67118\t['NC_000013.10:g.32936818A>G']\t['NM_000059.3']\n",
      "\tNORMALIZATION PASS: NM_000059.3:c.7964A>G=NM_000059.3:c.7964A>G\n",
      "\tNORMALIZATION PASS: NP_000050.2:p.(Gln2655Arg)=NP_000050.2:p.(Gln2655Arg)\n",
      "67184\t['NC_000013.10:g.32937507A>C']\t['NM_000059.3']\n",
      "\tNORMALIZATION PASS: NM_000059.3:c.8168A>C=NM_000059.3:c.8168A>C\n",
      "\tNORMALIZATION PASS: NP_000050.2:p.(Asp2723Ala)=NP_000050.2:p.(Asp2723Ala)\n"
     ]
    },
    {
     "name": "stderr",
     "output_type": "stream",
     "text": [
      "Normalization of intronic variants is not supported; returning unnormalized variant\n"
     ]
    },
    {
     "name": "stdout",
     "output_type": "stream",
     "text": [
      "262850\t['NC_000013.10:g.32953882A>G']\t['NM_000059.3']\n",
      "\tNORMALIZATION NULL: None=NM_000059.3:c.8954-5A>G\n",
      "\tNORMALIZATION PASS: NP_000050.2:p.?=NP_000050.2:p.?\n",
      "194260\t['NC_000013.10:g.32899321G>A']\t['NM_000059.3']\n",
      "\tNORMALIZATION PASS: NM_000059.3:c.425G>A=NM_000059.3:c.425G>A\n",
      "\tNORMALIZATION PASS: NP_000050.2:p.(Ser142Asn)=NP_000050.2:p.(Ser142Asn)\n",
      "131706\t['NC_000013.10:g.32937527G>C']\t['NM_000059.3']\n",
      "\tNORMALIZATION PASS: NM_000059.3:c.8188G>C=NM_000059.3:c.8188G>C\n",
      "\tNORMALIZATION PASS: NP_000050.2:p.(Ala2730Pro)=NP_000050.2:p.(Ala2730Pro)\n",
      "180554\t['NC_000013.10:g.32900636G>C']\t['NM_000059.3']\n",
      "\tNORMALIZATION PASS: NM_000059.3:c.517G>C=NM_000059.3:c.517G>C\n",
      "\tNORMALIZATION PASS: NP_000050.2:p.(Gly173Arg)=NP_000050.2:p.(Gly173Arg)\n",
      "67227\t['NC_000013.10:g.32944558G>A']\t['NM_000059.3']\n",
      "\tNORMALIZATION PASS: NM_000059.3:c.8351G>A=NM_000059.3:c.8351G>A\n",
      "\tNORMALIZATION PASS: NP_000050.2:p.(Arg2784Gln)=NP_000050.2:p.(Arg2784Gln)\n",
      "67188\t['NC_000013.10:g.32937516A>G']\t['NM_000059.3']\n",
      "\tNORMALIZATION PASS: NM_000059.3:c.8177A>G=NM_000059.3:c.8177A>G\n",
      "\tNORMALIZATION PASS: NP_000050.2:p.(Tyr2726Cys)=NP_000050.2:p.(Tyr2726Cys)\n",
      "67199\t['NC_000013.10:g.32937568_32937582del']\t['NM_000059.3']\n",
      "\tNORMALIZATION PASS: NM_000059.3:c.8229_8243del=NM_000059.3:c.8229_8243del\n",
      "\tNORMALIZATION NULL: None=NP_000050.2:p.(Arg2744_Gly2748del)\n",
      "67448\t['NC_000013.10:g.32954253G>A']\t['NM_000059.3']\n",
      "\tNORMALIZATION PASS: NM_000059.3:c.9227G>A=NM_000059.3:c.9227G>A\n",
      "\tNORMALIZATION PASS: NP_000050.2:p.(Gly3076Glu)=NP_000050.2:p.(Gly3076Glu)\n"
     ]
    },
    {
     "name": "stderr",
     "output_type": "stream",
     "text": [
      "Normalization of intronic variants is not supported; returning unnormalized variant\n"
     ]
    },
    {
     "name": "stdout",
     "output_type": "stream",
     "text": [
      "150804\t['NC_000013.10:g.32903631dup']\t['NM_000059.3']\n",
      "\tNORMALIZATION NULL: None=NM_000059.3:c.681+2dup\n",
      "\tNORMALIZATION PASS: NP_000050.2:p.?=NP_000050.2:p.?\n"
     ]
    },
    {
     "name": "stderr",
     "output_type": "stream",
     "text": [
      "Normalization of intronic variants is not supported; returning unnormalized variant\n"
     ]
    },
    {
     "name": "stdout",
     "output_type": "stream",
     "text": [
      "222342\t['NC_000013.10:g.32950932A>T']\t['NM_000059.3']\n",
      "\tNORMALIZATION NULL: None=NM_000059.3:c.8754+4A>T\n",
      "\tNORMALIZATION PASS: NP_000050.2:p.?=NP_000050.2:p.?\n"
     ]
    },
    {
     "name": "stderr",
     "output_type": "stream",
     "text": [
      "Normalization of intronic variants is not supported; returning unnormalized variant\n"
     ]
    },
    {
     "name": "stdout",
     "output_type": "stream",
     "text": [
      "46477\t['NC_000013.10:g.32900291del']\t['NM_000059.3']\n",
      "\tNORMALIZATION NULL: None=NM_000059.3:c.475+4del\n",
      "\tNORMALIZATION PASS: NP_000050.2:p.?=NP_000050.2:p.?\n"
     ]
    },
    {
     "name": "stderr",
     "output_type": "stream",
     "text": [
      "Normalization of intronic variants is not supported; returning unnormalized variant\n"
     ]
    },
    {
     "name": "stdout",
     "output_type": "stream",
     "text": [
      "432828\t['NC_000013.10:g.32954284T>C']\t['NM_000059.3']\n",
      "\tNORMALIZATION NULL: None=NM_000059.3:c.9256+2T>C\n",
      "\tNORMALIZATION PASS: NP_000050.2:p.?=NP_000050.2:p.?\n"
     ]
    },
    {
     "name": "stderr",
     "output_type": "stream",
     "text": [
      "Normalization of intronic variants is not supported; returning unnormalized variant\n"
     ]
    },
    {
     "name": "stdout",
     "output_type": "stream",
     "text": [
      "476532\t['NC_000013.10:g.32893213G>A']\t['NM_000059.3']\n",
      "\tNORMALIZATION NULL: None=NM_000059.3:c.68-1G>A\n",
      "\tNORMALIZATION PASS: NP_000050.2:p.?=NP_000050.2:p.?\n"
     ]
    }
   ],
   "source": [
    "# make a structure to hold a validation round when given a genomic HGVS\n",
    "# validate the genomic, cDNA/s and protein/s\n",
    "# validate the normalizations of genomic, cDNA and protein\n",
    "attr=['ID','assembly','var_g','var_c','var_p','isNormalized_g','isNormalized_c',\n",
    "      'isNormalized_p','isValid_g','isValid_c','isValid_p','transcripts','xrefs','timestamp']\n",
    "Validation = namedtuple('variant',attr) \n",
    "n_attr=len(attr)\n",
    "priorID=0\n",
    "tests_dict={}\n",
    "d=datetime.datetime.today().strftime('%Y-%m-%d')\n",
    "date=str(d)\n",
    "assembly='GRCh37'\n",
    "for nth,i in enumerate(hgvs_df.index):\n",
    "    ID=hgvs_df.loc[i,'ALLELEID']\n",
    "    if ID != priorID:\n",
    "        CLNHGVS_list=ast.literal_eval(hgvs_df.loc[i,'CLNHGVS'])\n",
    "        record=Validation._make(['.']*n_attr)\n",
    "        record._replace(ID=ID,timestamp=date)\n",
    "        tests_dict[ID]=record\n",
    "        tests_dict[ID]=tests_dict[ID]._replace(ID=ID)\n",
    "        tests_dict[ID]=tests_dict[ID]._replace(assembly='GRCh37')\n",
    "        tests_dict[ID]=tests_dict[ID]._replace(timestamp=date)\n",
    "#    sys.stdout.write(str(ID) + \"\\t\" + str(CLNHGVS_list) + \"\\n\")\n",
    "# genomic data\n",
    "        for g in CLNHGVS_list:\n",
    "#            print(nth,g)\n",
    "            var_g='.'\n",
    "            transcripts='.'\n",
    "            varPlst=[]\n",
    "            tests_dict[ID]=tests_dict[ID]._replace(var_g=g)\n",
    "# validate the genomic variant \n",
    "            try:\n",
    "                var_g=hp.parse_hgvs_variant(str(g))\n",
    "                x=vr.validate( hp.parse_hgvs_variant(str(var_g)))\n",
    "                tests_dict[ID]=tests_dict[ID]._replace(isValid_g=x)\n",
    "            except:\n",
    "                tests_dict[ID]=tests_dict[ID]._replace(isValid_g=None)\n",
    "# check normalization\n",
    "            try:\n",
    "                x=hn.normalize(hp.parse_hgvs_variant(str(var_g)))\n",
    "            except:\n",
    "                x=None\n",
    "            if str(x)==str(var_g):\n",
    "                tests_dict[ID]=tests_dict[ID]._replace(isNormalized_g=True)\n",
    "            elif (x is not None) and (str(x)!=str(var_g)):\n",
    "                tests_dict[ID]=tests_dict[ID]._replace(isNormalized_g=False)\n",
    "            else:\n",
    "                tests_dict[ID]=tests_dict[ID]._replace(isNormalized_g=None)\n",
    "# get the transcripts and check validity and normalization\n",
    "            try:\n",
    "                transcripts = sorted(am.relevant_transcripts(var_g))\n",
    "                transcriptStr=\";\".join(transcripts)\n",
    "                tests_dict[ID]=tests_dict[ID]._replace(transcripts=transcriptStr)\n",
    "                sys.stdout.write(str(ID) + \"\\t\" + str(CLNHGVS_list) + \"\\t\" + str(transcripts) + \"\\n\")\n",
    "            except:\n",
    "                tests_dict[ID]=tests_dict[ID]._replace(transcripts=None)\n",
    "            try:\n",
    "                tests_dict[ID]=tests_dict[ID]._replace(var_p=varPstr)\n",
    "                xrefStr=transcriptStr + ';' + varPstr\n",
    "                tests_dict[ID]=tests_dict[ID]._replace(xrefs=xrefStr)\n",
    "            except:\n",
    "                pass  \n",
    "            vars_p=[]\n",
    "            vars_c=[]\n",
    "            norm_p=[]\n",
    "            norm_c=[]\n",
    "            isvalid_cs=[]\n",
    "            isvalid_ps=[]\n",
    "            for t in transcripts:\n",
    "                if t!='.':\n",
    "                    var_c=am.g_to_c(var_g, str(t))\n",
    "                    var_p=variantmapper.c_to_p(var_c, None)\n",
    "                    varPlst.append(str(var_p))\n",
    "# for all the linked transcripts and proteins check the normalization\n",
    "                    try:\n",
    "                        x=hn.normalize(hp.parse_hgvs_variant(str(var_c)))\n",
    "                        vars_c.append(str(x))\n",
    "                    except:\n",
    "                        x=None\n",
    "                    try:\n",
    "                        y=hn.normalize(hp.parse_hgvs_variant(str(var_p)))\n",
    "                        vars_p.append(str(y))\n",
    "                    except:\n",
    "                        y=None                    \n",
    "                    if str(x)==str(var_c):\n",
    "                        sys.stdout.write(\"\\tNORMALIZATION PASS: \" +  str(x) +\"=\" + str(var_c) + \"\\n\")\n",
    "                        norm_c.append(str(True))\n",
    "                    elif (x is not None) and (str(x)!=str(var_c)):\n",
    "                        sys.stderr.write(\"\\tNORMALIZATION FAIL: \" +  str(x) +\"=\" + str(var_c) + \"\\n\")\n",
    "                        norm_c.append(str(False))\n",
    "                    else:\n",
    "                        sys.stdout.write(\"\\tNORMALIZATION NULL: \" +  str(x) +\"=\" + str(var_c) + \"\\n\")\n",
    "                        norm_c.append('.')\n",
    "                    if str(y)==str(var_p):\n",
    "                        sys.stdout.write(\"\\tNORMALIZATION PASS: \" +  str(y) +\"=\" + str(var_p) + \"\\n\")\n",
    "                        norm_p.append(str(True))\n",
    "                    elif (y is not None) and (str(y)!=str(var_c)):\n",
    "                        sys.stderr.write(\"\\tNORMALIZATION FAIL: \" +  str(y) +\"=\" + str(var_p) + \"\\n\")\n",
    "                        norm_p.append(str(False))\n",
    "                    else:\n",
    "                        sys.stdout.write(\"\\tNORMALIZATION NULL: \" +  str(y) +\"=\" + str(var_p) + \"\\n\")\n",
    "                        norm_p.append('.')\n",
    "# for all linked transcripts  and proteins check validity\n",
    "                    try:\n",
    "                        x=vr.validate(hp.parse_hgvs_variant(str(var_c)))\n",
    "                        vars_c.append(str(x))\n",
    "                    except:\n",
    "                        x=None\n",
    "                    isvalid_cs.append('.')\n",
    "                    try:\n",
    "                        y=vr.validate(hp.parse_hgvs_variant(str(var_p)))\n",
    "                        isvalid_ps.append(str(y))\n",
    "                    except:\n",
    "                        y=None                    \n",
    "                    isvalid_ps.append('.')\n",
    "            vars_cStr=\";\".join(vars_c)\n",
    "            vars_pStr=\";\".join(vars_p)\n",
    "            norm_cStr=\";\".join(norm_c)\n",
    "            norm_pStr=\";\".join(norm_p)\n",
    "            valid_cStr=\";\".join(isvalid_cs)\n",
    "            valid_pStr=\";\".join(isvalid_ps)\n",
    "\n",
    "            tests_dict[ID]=tests_dict[ID]._replace(var_c=vars_cStr)\n",
    "            tests_dict[ID]=tests_dict[ID]._replace(var_p=vars_pStr)\n",
    "            tests_dict[ID]=tests_dict[ID]._replace(isNormalized_c=norm_cStr)\n",
    "            tests_dict[ID]=tests_dict[ID]._replace(isNormalized_p=norm_pStr)            \n",
    "            tests_dict[ID]=tests_dict[ID]._replace(isValid_c=valid_cStr)\n",
    "            tests_dict[ID]=tests_dict[ID]._replace(isValid_p=valid_pStr)\n",
    "        priorID=ID"
   ]
  },
  {
   "cell_type": "code",
   "execution_count": 17,
   "metadata": {},
   "outputs": [
    {
     "data": {
      "text/plain": [
       "{96938: variant(ID=96938, assembly='GRCh37', var_g='NC_000013.10:g.32918712_32918716del', var_c='NM_000059.3:c.6859_6863del;True', var_p='NP_000050.2:p.(Arg2287LeufsTer4)', isNormalized_g=True, isNormalized_c='.', isNormalized_p='.', isValid_g=True, isValid_c='.', isValid_p='True;.', transcripts='NM_000059.3', xrefs='.', timestamp='2020-10-07'),\n",
       " 102767: variant(ID=102767, assembly='GRCh37', var_g='NC_000013.10:g.32937324C>A', var_c='NM_000059.3:c.7985C>A;True', var_p='NP_000050.2:p.(Thr2662Lys)', isNormalized_g=True, isNormalized_c='.', isNormalized_p='.', isValid_g=True, isValid_c='.', isValid_p='True;.', transcripts='NM_000059.3', xrefs='.', timestamp='2020-10-07'),\n",
       " 231894: variant(ID=231894, assembly='GRCh37', var_g='NC_000013.10:g.32921037A>G', var_c='', var_p='NP_000050.2:p.?', isNormalized_g=True, isNormalized_c='.', isNormalized_p='.', isValid_g=True, isValid_c='.', isValid_p='True;.', transcripts='NM_000059.3', xrefs='.', timestamp='2020-10-07'),\n",
       " 66722: variant(ID=66722, assembly='GRCh37', var_g='NC_000013.10:g.32900753A>G', var_c='', var_p='NP_000050.2:p.?', isNormalized_g=True, isNormalized_c='.', isNormalized_p='.', isValid_g=True, isValid_c='.', isValid_p='True;.', transcripts='NM_000059.3', xrefs='.', timestamp='2020-10-07'),\n",
       " 180681: variant(ID=180681, assembly='GRCh37', var_g='NC_000013.10:g.32953990A>G', var_c='NM_000059.3:c.9057A>G;True', var_p='NP_000050.2:p.(Lys3019=)', isNormalized_g=True, isNormalized_c='.', isNormalized_p='.', isValid_g=True, isValid_c='.', isValid_p='True;.', transcripts='NM_000059.3', xrefs='.', timestamp='2020-10-07'),\n",
       " 24363: variant(ID=24363, assembly='GRCh37', var_g='NC_000013.10:g.32912393_32912395ACT[1]', var_c='', var_p='', isNormalized_g=None, isNormalized_c='.', isNormalized_p='.', isValid_g=None, isValid_c='', isValid_p='', transcripts=None, xrefs='.', timestamp='2020-10-07'),\n",
       " 97293: variant(ID=97293, assembly='GRCh37', var_g='NC_000013.10:g.32900226_32900229del', var_c='', var_p='NP_000050.2:p.?', isNormalized_g=True, isNormalized_c='.', isNormalized_p='.', isValid_g=True, isValid_c='.', isValid_p='True;.', transcripts='NM_000059.3', xrefs='.', timestamp='2020-10-07'),\n",
       " 262826: variant(ID=262826, assembly='GRCh37', var_g='NC_000013.10:g.32918791G>A', var_c='', var_p='NP_000050.2:p.?', isNormalized_g=True, isNormalized_c='.', isNormalized_p='.', isValid_g=True, isValid_c='.', isValid_p='True;.', transcripts='NM_000059.3', xrefs='.', timestamp='2020-10-07'),\n",
       " 262852: variant(ID=262852, assembly='GRCh37', var_g='NC_000013.10:g.32954050G>T', var_c='NM_000059.3:c.9117G>T;True', var_p='NP_000050.2:p.(Pro3039=)', isNormalized_g=True, isNormalized_c='.', isNormalized_p='.', isValid_g=True, isValid_c='.', isValid_p='True;.', transcripts='NM_000059.3', xrefs='.', timestamp='2020-10-07'),\n",
       " 476531: variant(ID=476531, assembly='GRCh37', var_g='NC_000013.10:g.32893209A>G', var_c='', var_p='NP_000050.2:p.?', isNormalized_g=True, isNormalized_c='.', isNormalized_p='.', isValid_g=True, isValid_c='.', isValid_p='True;.', transcripts='NM_000059.3', xrefs='.', timestamp='2020-10-07'),\n",
       " 617912: variant(ID=617912, assembly='GRCh37', var_g='NC_000013.10:g.32890598del', var_c='NM_000059.3:c.1del;True', var_p='', isNormalized_g=True, isNormalized_c='.', isNormalized_p='.', isValid_g=True, isValid_c='.', isValid_p='True;.', transcripts='NM_000059.3', xrefs='.', timestamp='2020-10-07'),\n",
       " 67139: variant(ID=67139, assembly='GRCh37', var_g='NC_000013.10:g.32937348C>T', var_c='NM_000059.3:c.8009C>T;True', var_p='NP_000050.2:p.(Ser2670Leu)', isNormalized_g=True, isNormalized_c='.', isNormalized_p='.', isValid_g=True, isValid_c='.', isValid_p='True;.', transcripts='NM_000059.3', xrefs='.', timestamp='2020-10-07'),\n",
       " 46711: variant(ID=46711, assembly='GRCh37', var_g='NC_000013.10:g.32944557C>T', var_c='NM_000059.3:c.8350C>T;True', var_p='NP_000050.2:p.(Arg2784Trp)', isNormalized_g=True, isNormalized_c='.', isNormalized_p='.', isValid_g=True, isValid_c='.', isValid_p='True;.', transcripts='NM_000059.3', xrefs='.', timestamp='2020-10-07'),\n",
       " 183616: variant(ID=183616, assembly='GRCh37', var_g='NC_000013.10:g.32893212A>G', var_c='', var_p='NP_000050.2:p.?', isNormalized_g=True, isNormalized_c='.', isNormalized_p='.', isValid_g=True, isValid_c='.', isValid_p='True;.', transcripts='NM_000059.3', xrefs='.', timestamp='2020-10-07'),\n",
       " 46679: variant(ID=46679, assembly='GRCh37', var_g='NC_000013.10:g.32936722A>G', var_c='NM_000059.3:c.7868A>G;True', var_p='NP_000050.2:p.(His2623Arg)', isNormalized_g=True, isNormalized_c='.', isNormalized_p='.', isValid_g=True, isValid_c='.', isValid_p='True;.', transcripts='NM_000059.3', xrefs='.', timestamp='2020-10-07'),\n",
       " 67118: variant(ID=67118, assembly='GRCh37', var_g='NC_000013.10:g.32936818A>G', var_c='NM_000059.3:c.7964A>G;True', var_p='NP_000050.2:p.(Gln2655Arg)', isNormalized_g=True, isNormalized_c='.', isNormalized_p='.', isValid_g=True, isValid_c='.', isValid_p='True;.', transcripts='NM_000059.3', xrefs='.', timestamp='2020-10-07'),\n",
       " 67184: variant(ID=67184, assembly='GRCh37', var_g='NC_000013.10:g.32937507A>C', var_c='NM_000059.3:c.8168A>C;True', var_p='NP_000050.2:p.(Asp2723Ala)', isNormalized_g=True, isNormalized_c='.', isNormalized_p='.', isValid_g=True, isValid_c='.', isValid_p='True;.', transcripts='NM_000059.3', xrefs='.', timestamp='2020-10-07'),\n",
       " 262850: variant(ID=262850, assembly='GRCh37', var_g='NC_000013.10:g.32953882A>G', var_c='', var_p='NP_000050.2:p.?', isNormalized_g=True, isNormalized_c='.', isNormalized_p='.', isValid_g=True, isValid_c='.', isValid_p='True;.', transcripts='NM_000059.3', xrefs='.', timestamp='2020-10-07'),\n",
       " 194260: variant(ID=194260, assembly='GRCh37', var_g='NC_000013.10:g.32899321G>A', var_c='NM_000059.3:c.425G>A;True', var_p='NP_000050.2:p.(Ser142Asn)', isNormalized_g=True, isNormalized_c='.', isNormalized_p='.', isValid_g=True, isValid_c='.', isValid_p='True;.', transcripts='NM_000059.3', xrefs='.', timestamp='2020-10-07'),\n",
       " 131706: variant(ID=131706, assembly='GRCh37', var_g='NC_000013.10:g.32937527G>C', var_c='NM_000059.3:c.8188G>C;True', var_p='NP_000050.2:p.(Ala2730Pro)', isNormalized_g=True, isNormalized_c='.', isNormalized_p='.', isValid_g=True, isValid_c='.', isValid_p='True;.', transcripts='NM_000059.3', xrefs='.', timestamp='2020-10-07'),\n",
       " 180554: variant(ID=180554, assembly='GRCh37', var_g='NC_000013.10:g.32900636G>C', var_c='NM_000059.3:c.517G>C;True', var_p='NP_000050.2:p.(Gly173Arg)', isNormalized_g=True, isNormalized_c='.', isNormalized_p='.', isValid_g=True, isValid_c='.', isValid_p='True;.', transcripts='NM_000059.3', xrefs='.', timestamp='2020-10-07'),\n",
       " 67227: variant(ID=67227, assembly='GRCh37', var_g='NC_000013.10:g.32944558G>A', var_c='NM_000059.3:c.8351G>A;True', var_p='NP_000050.2:p.(Arg2784Gln)', isNormalized_g=True, isNormalized_c='.', isNormalized_p='.', isValid_g=True, isValid_c='.', isValid_p='True;.', transcripts='NM_000059.3', xrefs='.', timestamp='2020-10-07'),\n",
       " 67188: variant(ID=67188, assembly='GRCh37', var_g='NC_000013.10:g.32937516A>G', var_c='NM_000059.3:c.8177A>G;True', var_p='NP_000050.2:p.(Tyr2726Cys)', isNormalized_g=True, isNormalized_c='.', isNormalized_p='.', isValid_g=True, isValid_c='.', isValid_p='True;.', transcripts='NM_000059.3', xrefs='.', timestamp='2020-10-07'),\n",
       " 67199: variant(ID=67199, assembly='GRCh37', var_g='NC_000013.10:g.32937568_32937582del', var_c='NM_000059.3:c.8229_8243del;True', var_p='', isNormalized_g=True, isNormalized_c='.', isNormalized_p='.', isValid_g=True, isValid_c='.', isValid_p='.', transcripts='NM_000059.3', xrefs='.', timestamp='2020-10-07'),\n",
       " 67448: variant(ID=67448, assembly='GRCh37', var_g='NC_000013.10:g.32954253G>A', var_c='NM_000059.3:c.9227G>A;True', var_p='NP_000050.2:p.(Gly3076Glu)', isNormalized_g=True, isNormalized_c='.', isNormalized_p='.', isValid_g=True, isValid_c='.', isValid_p='True;.', transcripts='NM_000059.3', xrefs='.', timestamp='2020-10-07'),\n",
       " 150804: variant(ID=150804, assembly='GRCh37', var_g='NC_000013.10:g.32903631dup', var_c='', var_p='NP_000050.2:p.?', isNormalized_g=True, isNormalized_c='.', isNormalized_p='.', isValid_g=True, isValid_c='.', isValid_p='True;.', transcripts='NM_000059.3', xrefs='.', timestamp='2020-10-07'),\n",
       " 222342: variant(ID=222342, assembly='GRCh37', var_g='NC_000013.10:g.32950932A>T', var_c='', var_p='NP_000050.2:p.?', isNormalized_g=True, isNormalized_c='.', isNormalized_p='.', isValid_g=True, isValid_c='.', isValid_p='True;.', transcripts='NM_000059.3', xrefs='.', timestamp='2020-10-07'),\n",
       " 46477: variant(ID=46477, assembly='GRCh37', var_g='NC_000013.10:g.32900291del', var_c='', var_p='NP_000050.2:p.?', isNormalized_g=True, isNormalized_c='.', isNormalized_p='.', isValid_g=True, isValid_c='.', isValid_p='True;.', transcripts='NM_000059.3', xrefs='.', timestamp='2020-10-07'),\n",
       " 432828: variant(ID=432828, assembly='GRCh37', var_g='NC_000013.10:g.32954284T>C', var_c='', var_p='NP_000050.2:p.?', isNormalized_g=True, isNormalized_c='.', isNormalized_p='.', isValid_g=True, isValid_c='.', isValid_p='True;.', transcripts='NM_000059.3', xrefs='.', timestamp='2020-10-07'),\n",
       " 476532: variant(ID=476532, assembly='GRCh37', var_g='NC_000013.10:g.32893213G>A', var_c='', var_p='NP_000050.2:p.?', isNormalized_g=True, isNormalized_c='.', isNormalized_p='.', isValid_g=True, isValid_c='.', isValid_p='True;.', transcripts='NM_000059.3', xrefs='.', timestamp='2020-10-07'),\n",
       " 46786: variant(ID=46786, assembly='GRCh37', var_g='NC_000013.10:g.32968871T>G', var_c='NM_000059.3:c.9302T>G;True', var_p='NP_000050.2:p.(Leu3101Arg)', isNormalized_g=True, isNormalized_c='.', isNormalized_p='.', isValid_g=True, isValid_c='.', isValid_p='True;.', transcripts='NM_000059.3', xrefs='.', timestamp='2020-10-07'),\n",
       " 184000: variant(ID=184000, assembly='GRCh37', var_g='NC_000013.10:g.32936835G>A', var_c='', var_p='NP_000050.2:p.?', isNormalized_g=True, isNormalized_c='.', isNormalized_p='.', isValid_g=True, isValid_c='.', isValid_p='True;.', transcripts='NM_000059.3', xrefs='.', timestamp='2020-10-07'),\n",
       " 399131: variant(ID=399131, assembly='GRCh37', var_g='NC_000013.10:g.32893213G>T', var_c='', var_p='NP_000050.2:p.?', isNormalized_g=True, isNormalized_c='.', isNormalized_p='.', isValid_g=True, isValid_c='.', isValid_p='True;.', transcripts='NM_000059.3', xrefs='.', timestamp='2020-10-07'),\n",
       " 46717: variant(ID=46717, assembly='GRCh37', var_g='NC_000013.10:g.32944693A>G', var_c='NM_000059.3:c.8486A>G;True', var_p='NP_000050.2:p.(Gln2829Arg)', isNormalized_g=True, isNormalized_c='.', isNormalized_p='.', isValid_g=True, isValid_c='.', isValid_p='True;.', transcripts='NM_000059.3', xrefs='.', timestamp='2020-10-07'),\n",
       " 66287: variant(ID=66287, assembly='GRCh37', var_g='NC_000013.10:g.32900226_32900230del', var_c='', var_p='NP_000050.2:p.?', isNormalized_g=True, isNormalized_c='.', isNormalized_p='.', isValid_g=True, isValid_c='.', isValid_p='True;.', transcripts='NM_000059.3', xrefs='.', timestamp='2020-10-07'),\n",
       " 46336: variant(ID=46336, assembly='GRCh37', var_g='NC_000013.10:g.32893375A>G', var_c='NM_000059.3:c.229A>G;True', var_p='NP_000050.2:p.(Thr77Ala)', isNormalized_g=True, isNormalized_c='.', isNormalized_p='.', isValid_g=True, isValid_c='.', isValid_p='True;.', transcripts='NM_000059.3', xrefs='.', timestamp='2020-10-07'),\n",
       " 131737: variant(ID=131737, assembly='GRCh37', var_g='NC_000013.10:g.32954015G>C', var_c='NM_000059.3:c.9082G>C;True', var_p='NP_000050.2:p.(Ala3028Pro)', isNormalized_g=True, isNormalized_c='.', isNormalized_p='.', isValid_g=True, isValid_c='.', isValid_p='True;.', transcripts='NM_000059.3', xrefs='.', timestamp='2020-10-07'),\n",
       " 400114: variant(ID=400114, assembly='GRCh37', var_g='NC_000013.10:g.32937508T>A', var_c='NM_000059.3:c.8169T>A;True', var_p='NP_000050.2:p.(Asp2723Glu)', isNormalized_g=True, isNormalized_c='.', isNormalized_p='.', isValid_g=True, isValid_c='.', isValid_p='True;.', transcripts='NM_000059.3', xrefs='.', timestamp='2020-10-07'),\n",
       " 399686: variant(ID=399686, assembly='GRCh37', var_g='NC_000013.10:g.32910974T>C', var_c='NM_000059.3:c.2482T>C;True', var_p='NP_000050.2:p.(Tyr828His)', isNormalized_g=True, isNormalized_c='.', isNormalized_p='.', isValid_g=True, isValid_c='.', isValid_p='True;.', transcripts='NM_000059.3', xrefs='.', timestamp='2020-10-07'),\n",
       " 432370: variant(ID=432370, assembly='GRCh37', var_g='NC_000013.10:g.32936711G>C', var_c='NM_000059.3:c.7857G>C;True', var_p='NP_000050.2:p.(Trp2619Cys)', isNormalized_g=True, isNormalized_c='.', isNormalized_p='.', isValid_g=True, isValid_c='.', isValid_p='True;.', transcripts='NM_000059.3', xrefs='.', timestamp='2020-10-07'),\n",
       " 66907: variant(ID=66907, assembly='GRCh37', var_g='NC_000013.10:g.32921038G>A', var_c='', var_p='NP_000050.2:p.?', isNormalized_g=True, isNormalized_c='.', isNormalized_p='.', isValid_g=True, isValid_c='.', isValid_p='True;.', transcripts='NM_000059.3', xrefs='.', timestamp='2020-10-07'),\n",
       " 67068: variant(ID=67068, assembly='GRCh37', var_g='NC_000013.10:g.32932014G>A', var_c='NM_000059.3:c.7753G>A;True', var_p='NP_000050.2:p.(Gly2585Arg)', isNormalized_g=True, isNormalized_c='.', isNormalized_p='.', isValid_g=True, isValid_c='.', isValid_p='True;.', transcripts='NM_000059.3', xrefs='.', timestamp='2020-10-07'),\n",
       " 67380: variant(ID=67380, assembly='GRCh37', var_g='NC_000013.10:g.32953884C>G', var_c='', var_p='NP_000050.2:p.?', isNormalized_g=True, isNormalized_c='.', isNormalized_p='.', isValid_g=True, isValid_c='.', isValid_p='True;.', transcripts='NM_000059.3', xrefs='.', timestamp='2020-10-07'),\n",
       " 97207: variant(ID=97207, assembly='GRCh37', var_g='NC_000013.10:g.32945237G>A', var_c='NM_000059.3:c.8632G>A;True', var_p='NP_000050.2:p.(Glu2878Lys)', isNormalized_g=True, isNormalized_c='.', isNormalized_p='.', isValid_g=True, isValid_c='.', isValid_p='True;.', transcripts='NM_000059.3', xrefs='.', timestamp='2020-10-07'),\n",
       " 234957: variant(ID=234957, assembly='GRCh37', var_g='NC_000013.10:g.32936680G>T', var_c='NM_000059.3:c.7826G>T;True', var_p='NP_000050.2:p.(Gly2609Val)', isNormalized_g=True, isNormalized_c='.', isNormalized_p='.', isValid_g=True, isValid_c='.', isValid_p='True;.', transcripts='NM_000059.3', xrefs='.', timestamp='2020-10-07'),\n",
       " 477516: variant(ID=477516, assembly='GRCh37', var_g='NC_000013.10:g.32937506G>A', var_c='NM_000059.3:c.8167G>A;True', var_p='NP_000050.2:p.(Asp2723Asn)', isNormalized_g=True, isNormalized_c='.', isNormalized_p='.', isValid_g=True, isValid_c='.', isValid_p='True;.', transcripts='NM_000059.3', xrefs='.', timestamp='2020-10-07'),\n",
       " 487640: variant(ID=487640, assembly='GRCh37', var_g='NC_000013.10:g.32899324A>G', var_c='', var_p='NP_000050.2:p.?', isNormalized_g=True, isNormalized_c='.', isNormalized_p='.', isValid_g=True, isValid_c='.', isValid_p='True;.', transcripts='NM_000059.3', xrefs='.', timestamp='2020-10-07'),\n",
       " 528221: variant(ID=528221, assembly='GRCh37', var_g='NC_000013.10:g.32944549A>T', var_c='NM_000059.3:c.8342A>T;True', var_p='NP_000050.2:p.(Asn2781Ile)', isNormalized_g=True, isNormalized_c='.', isNormalized_p='.', isValid_g=True, isValid_c='.', isValid_p='True;.', transcripts='NM_000059.3', xrefs='.', timestamp='2020-10-07'),\n",
       " 67159: variant(ID=67159, assembly='GRCh37', var_g='NC_000013.10:g.32937398G>T', var_c='NM_000059.3:c.8059G>T;True', var_p='NP_000050.2:p.(Val2687Phe)', isNormalized_g=True, isNormalized_c='.', isNormalized_p='.', isValid_g=True, isValid_c='.', isValid_p='True;.', transcripts='NM_000059.3', xrefs='.', timestamp='2020-10-07'),\n",
       " 67181: variant(ID=67181, assembly='GRCh37', var_g='NC_000013.10:g.32937501T>A', var_c='NM_000059.3:c.8162T>A;True', var_p='NP_000050.2:p.(Leu2721His)', isNormalized_g=True, isNormalized_c='.', isNormalized_p='.', isValid_g=True, isValid_c='.', isValid_p='True;.', transcripts='NM_000059.3', xrefs='.', timestamp='2020-10-07'),\n",
       " 67498: variant(ID=67498, assembly='GRCh37', var_g='NC_000013.10:g.32893239G>T', var_c='NM_000059.3:c.93G>T;True', var_p='NP_000050.2:p.(Trp31Cys)', isNormalized_g=True, isNormalized_c='.', isNormalized_p='.', isValid_g=True, isValid_c='.', isValid_p='True;.', transcripts='NM_000059.3', xrefs='.', timestamp='2020-10-07'),\n",
       " 131741: variant(ID=131741, assembly='GRCh37', var_g='NC_000013.10:g.32954253G>T', var_c='NM_000059.3:c.9227G>T;True', var_p='NP_000050.2:p.(Gly3076Val)', isNormalized_g=True, isNormalized_c='.', isNormalized_p='.', isValid_g=True, isValid_c='.', isValid_p='True;.', transcripts='NM_000059.3', xrefs='.', timestamp='2020-10-07'),\n",
       " 227519: variant(ID=227519, assembly='GRCh37', var_g='NC_000013.10:g.32890664G>A', var_c='NM_000059.3:c.67G>A;True', var_p='NP_000050.2:p.(Asp23Asn)', isNormalized_g=True, isNormalized_c='.', isNormalized_p='.', isValid_g=True, isValid_c='.', isValid_p='True;.', transcripts='NM_000059.3', xrefs='.', timestamp='2020-10-07'),\n",
       " 400148: variant(ID=400148, assembly='GRCh37', var_g='NC_000013.10:g.32968853A>G', var_c='NM_000059.3:c.9284A>G;True', var_p='NP_000050.2:p.(Asp3095Gly)', isNormalized_g=True, isNormalized_c='.', isNormalized_p='.', isValid_g=True, isValid_c='.', isValid_p='True;.', transcripts='NM_000059.3', xrefs='.', timestamp='2020-10-07'),\n",
       " 484850: variant(ID=484850, assembly='GRCh37', var_g='NC_000013.10:g.32918693A>G', var_c='', var_p='NP_000050.2:p.?', isNormalized_g=True, isNormalized_c='.', isNormalized_p='.', isValid_g=True, isValid_c='.', isValid_p='True;.', transcripts='NM_000059.3', xrefs='.', timestamp='2020-10-07'),\n",
       " 484897: variant(ID=484897, assembly='GRCh37', var_g='NC_000013.10:g.32944558G>T', var_c='NM_000059.3:c.8351G>T;True', var_p='NP_000050.2:p.(Arg2784Leu)', isNormalized_g=True, isNormalized_c='.', isNormalized_p='.', isValid_g=True, isValid_c='.', isValid_p='True;.', transcripts='NM_000059.3', xrefs='.', timestamp='2020-10-07'),\n",
       " 66861: variant(ID=66861, assembly='GRCh37', var_g='NC_000013.10:g.32903633A>G', var_c='', var_p='NP_000050.2:p.?', isNormalized_g=True, isNormalized_c='.', isNormalized_p='.', isValid_g=True, isValid_c='.', isValid_p='True;.', transcripts='NM_000059.3', xrefs='.', timestamp='2020-10-07'),\n",
       " 67077: variant(ID=67077, assembly='GRCh37', var_g='NC_000013.10:g.32932053_32932055GAA[1]', var_c='', var_p='', isNormalized_g=None, isNormalized_c='.', isNormalized_p='.', isValid_g=None, isValid_c='', isValid_p='', transcripts=None, xrefs='.', timestamp='2020-10-07'),\n",
       " 46713: variant(ID=46713, assembly='GRCh37', var_g='NC_000013.10:g.32944585G>A', var_c='NM_000059.3:c.8378G>A;True', var_p='NP_000050.2:p.(Gly2793Glu)', isNormalized_g=True, isNormalized_c='.', isNormalized_p='.', isValid_g=True, isValid_c='.', isValid_p='True;.', transcripts='NM_000059.3', xrefs='.', timestamp='2020-10-07'),\n",
       " 66378: variant(ID=66378, assembly='GRCh37', var_g='NC_000013.10:g.32900290A>G', var_c='', var_p='NP_000050.2:p.?', isNormalized_g=True, isNormalized_c='.', isNormalized_p='.', isValid_g=True, isValid_c='.', isValid_p='True;.', transcripts='NM_000059.3', xrefs='.', timestamp='2020-10-07'),\n",
       " 66463: variant(ID=66463, assembly='GRCh37', var_g='NC_000013.10:g.32900419G>A', var_c='.', var_p='.', isNormalized_g=True, isNormalized_c='.', isNormalized_p='.', isValid_g=True, isValid_c='.', isValid_p='.', transcripts='NM_000059.3', xrefs='.', timestamp='2020-10-07')}"
      ]
     },
     "execution_count": 17,
     "metadata": {},
     "output_type": "execute_result"
    }
   ],
   "source": [
    "tests_dict"
   ]
  },
  {
   "cell_type": "code",
   "execution_count": 18,
   "metadata": {},
   "outputs": [],
   "source": [
    "pd.DataFrame.from_dict(tests_dict,orient='index').to_csv('/mnt/c/Users/mcgold/DATA/HGVSValidationResult_part_20201007.tsv',sep=\"\\t\",header=True,index=False)"
   ]
  },
  {
   "cell_type": "code",
   "execution_count": null,
   "metadata": {},
   "outputs": [],
   "source": [
    "df=pd.DataFrame.from_dict(tests_dict,orient='index')"
   ]
  },
  {
   "cell_type": "code",
   "execution_count": null,
   "metadata": {},
   "outputs": [],
   "source": [
    "df"
   ]
  },
  {
   "cell_type": "code",
   "execution_count": null,
   "metadata": {},
   "outputs": [],
   "source": []
  }
 ],
 "metadata": {
  "kernelspec": {
   "display_name": "Python 3",
   "language": "python",
   "name": "python3"
  },
  "language_info": {
   "codemirror_mode": {
    "name": "ipython",
    "version": 3
   },
   "file_extension": ".py",
   "mimetype": "text/x-python",
   "name": "python",
   "nbconvert_exporter": "python",
   "pygments_lexer": "ipython3",
   "version": "3.8.2"
  }
 },
 "nbformat": 4,
 "nbformat_minor": 4
}
